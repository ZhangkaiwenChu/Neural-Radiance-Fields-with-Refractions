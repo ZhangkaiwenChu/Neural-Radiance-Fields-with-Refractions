{
 "cells": [
  {
   "cell_type": "code",
   "execution_count": 1,
   "id": "8096bd69-06cb-45ba-947b-9256fc000e62",
   "metadata": {},
   "outputs": [],
   "source": [
    "import os, sys\n",
    "import numpy as np\n",
    "import imageio\n",
    "import json\n",
    "import random\n",
    "import time\n",
    "import torch\n",
    "import torch.nn as nn\n",
    "import torch.nn.functional as F\n",
    "from tqdm import tqdm, trange\n",
    "\n",
    "import commentjson as json\n",
    "import tinycudann as tcnn\n",
    "\n",
    "import matplotlib.pyplot as plt"
   ]
  },
  {
   "cell_type": "code",
   "execution_count": 2,
   "id": "997f21e3-98fa-4606-99f9-3c6cba80f83e",
   "metadata": {},
   "outputs": [],
   "source": [
    "from load_llff import *\n",
    "from utils import *"
   ]
  },
  {
   "cell_type": "code",
   "execution_count": 3,
   "id": "c7b186f6-12f6-4b15-ae60-61a66d731af1",
   "metadata": {},
   "outputs": [],
   "source": [
    "device = torch.device(\"cuda\")\n",
    "np.random.seed(0)\n",
    "torch.set_default_tensor_type('torch.cuda.FloatTensor')"
   ]
  },
  {
   "cell_type": "markdown",
   "id": "f7c1e80f-d942-48c1-9df5-3bc1b1d9d0f3",
   "metadata": {
    "tags": []
   },
   "source": [
    "## Load Data"
   ]
  },
  {
   "cell_type": "code",
   "execution_count": 4,
   "id": "0efb0e76-9a75-438b-bc6e-104cacef9cc0",
   "metadata": {},
   "outputs": [],
   "source": [
    "parser = config_parser()\n",
    "args = parser.parse_args('--config C:/Users/chuzh/Study/CIS565/final/Neural-Radiance-Fields-with-Refractions/code/configs/fern.txt')"
   ]
  },
  {
   "cell_type": "code",
   "execution_count": 5,
   "id": "aebe682a-d7b7-4a80-89a3-291d4f38767e",
   "metadata": {},
   "outputs": [],
   "source": [
    "with open(args.nnconfig) as config_file:\n",
    "    nnconfig = json.load(config_file)"
   ]
  },
  {
   "cell_type": "code",
   "execution_count": 6,
   "id": "fb528a90-b17b-49a8-a355-dded4ed64c86",
   "metadata": {},
   "outputs": [
    {
     "name": "stdout",
     "output_type": "stream",
     "text": [
      "Loaded image data (378, 504, 3, 20) [378.         504.         407.56579161]\n",
      "Loaded ./data/nerf_llff_data/fern 16.985296178676084 80.00209740336334\n",
      "recentered (3, 5)\n",
      "[[ 1.0000000e+00  0.0000000e+00  0.0000000e+00  1.4901161e-09]\n",
      " [ 0.0000000e+00  1.0000000e+00 -1.8730975e-09 -9.6857544e-09]\n",
      " [-0.0000000e+00  1.8730975e-09  1.0000000e+00  0.0000000e+00]]\n",
      "Data:\n",
      "(20, 3, 5) (20, 378, 504, 3) (20, 2)\n",
      "HOLDOUT view is 12\n",
      "Loaded llff (20, 378, 504, 3) (120, 3, 5) [378.     504.     407.5658] ./data/nerf_llff_data/fern\n",
      "Auto LLFF holdout, 8\n",
      "DEFINING BOUNDS\n",
      "NEAR FAR 0.0 1.0\n"
     ]
    }
   ],
   "source": [
    "# Load data\n",
    "K = None\n",
    "if args.dataset_type == 'llff':\n",
    "    images, poses, bds, render_poses, i_test = load_llff_data(args.datadir, args.factor,\n",
    "                                                                  recenter=True, bd_factor=.75,\n",
    "                                                                  spherify=args.spherify)\n",
    "    hwf = poses[0,:3,-1]\n",
    "    poses = poses[:,:3,:4]\n",
    "    print('Loaded llff', images.shape, render_poses.shape, hwf, args.datadir)\n",
    "    if not isinstance(i_test, list):\n",
    "        i_test = [i_test]\n",
    "\n",
    "    if args.llffhold > 0:\n",
    "        print('Auto LLFF holdout,', args.llffhold)\n",
    "        i_test = np.arange(images.shape[0])[::args.llffhold]\n",
    "\n",
    "    i_val = i_test\n",
    "    i_train = np.array([i for i in np.arange(int(images.shape[0])) if\n",
    "                        (i not in i_test and i not in i_val)])\n",
    "\n",
    "    print('DEFINING BOUNDS')\n",
    "    if args.no_ndc:\n",
    "        near = np.ndarray.min(bds) * .9\n",
    "        far = np.ndarray.max(bds) * 1.\n",
    "            \n",
    "    else:\n",
    "        near = 0.\n",
    "        far = 1.\n",
    "    print('NEAR FAR', near, far)\n",
    "\n",
    "elif args.dataset_type == 'blender':\n",
    "    images, poses, render_poses, hwf, i_split = load_blender_data(args.datadir, args.half_res, args.testskip)\n",
    "    print('Loaded blender', images.shape, render_poses.shape, hwf, args.datadir)\n",
    "    i_train, i_val, i_test = i_split\n",
    "\n",
    "    near = 2.\n",
    "    far = 6.\n",
    "\n",
    "    if args.white_bkgd:\n",
    "        images = images[...,:3]*images[...,-1:] + (1.-images[...,-1:])\n",
    "    else:\n",
    "        images = images[...,:3]\n",
    "\n",
    "elif args.dataset_type == 'LINEMOD':\n",
    "    images, poses, render_poses, hwf, K, i_split, near, far = load_LINEMOD_data(args.datadir, args.half_res, args.testskip)\n",
    "    print(f'Loaded LINEMOD, images shape: {images.shape}, hwf: {hwf}, K: {K}')\n",
    "    print(f'[CHECK HERE] near: {near}, far: {far}.')\n",
    "    i_train, i_val, i_test = i_split\n",
    "\n",
    "    if args.white_bkgd:\n",
    "        images = images[...,:3]*images[...,-1:] + (1.-images[...,-1:])\n",
    "    else:\n",
    "        images = images[...,:3]\n",
    "\n",
    "elif args.dataset_type == 'deepvoxels':\n",
    "\n",
    "    images, poses, render_poses, hwf, i_split = load_dv_data(scene=args.shape,\n",
    "                                                                 basedir=args.datadir,\n",
    "                                                                 testskip=args.testskip)\n",
    "\n",
    "    print('Loaded deepvoxels', images.shape, render_poses.shape, hwf, args.datadir)\n",
    "    i_train, i_val, i_test = i_split\n",
    "\n",
    "    hemi_R = np.mean(np.linalg.norm(poses[:,:3,-1], axis=-1))\n",
    "    near = hemi_R-1.\n",
    "    far = hemi_R+1.\n",
    "\n",
    "else:\n",
    "    print('Unknown dataset type', args.dataset_type, 'exiting')\n",
    "\n",
    "# Cast intrinsics to right types\n",
    "H, W, focal = hwf\n",
    "H, W = int(H), int(W)\n",
    "hwf = [H, W, focal]\n",
    "\n",
    "if K is None:\n",
    "    K = np.array([\n",
    "        [focal, 0, 0.5*W],\n",
    "        [0, focal, 0.5*H],\n",
    "        [0, 0, 1]\n",
    "    ])\n",
    "\n",
    "if args.render_test:\n",
    "    render_poses = np.array(poses[i_test])\n",
    "\n",
    "# Create log dir and copy the config file\n",
    "basedir = args.basedir\n",
    "expname = args.expname\n",
    "os.makedirs(os.path.join(basedir, expname), exist_ok=True)\n",
    "f = os.path.join(basedir, expname, 'args.txt')\n",
    "with open(f, 'w') as file:\n",
    "    for arg in sorted(vars(args)):\n",
    "        attr = getattr(args, arg)\n",
    "        file.write('{} = {}\\n'.format(arg, attr))\n",
    "if args.config is not None:\n",
    "    f = os.path.join(basedir, expname, 'config.txt')\n",
    "    with open(f, 'w') as file:\n",
    "        file.write(open(args.config, 'r').read())"
   ]
  },
  {
   "cell_type": "markdown",
   "id": "b2af6309-5650-43be-8acd-ae85715e0882",
   "metadata": {
    "tags": []
   },
   "source": [
    "## Create DataSet"
   ]
  },
  {
   "cell_type": "code",
   "execution_count": 7,
   "id": "40a996f3-9fbf-4fa6-b04f-07483c338697",
   "metadata": {},
   "outputs": [],
   "source": [
    "N_rand = args.N_rand"
   ]
  },
  {
   "cell_type": "code",
   "execution_count": 8,
   "id": "7b5f3d27-f322-45fe-9330-107897cf0953",
   "metadata": {},
   "outputs": [
    {
     "name": "stdout",
     "output_type": "stream",
     "text": [
      "get rays\n",
      "done, concats\n",
      "shuffle rays\n",
      "done\n"
     ]
    }
   ],
   "source": [
    "print('get rays')\n",
    "rays = np.stack([get_rays_np(H, W, K, p) for p in poses[:,:3,:4]], 0) # [N, ro+rd, H, W, 3]\n",
    "print('done, concats')\n",
    "rays_rgb = np.concatenate([rays, images[:,None]], 1) # [N, ro+rd+rgb, H, W, 3]\n",
    "rays_rgb = np.transpose(rays_rgb, [0,2,3,1,4]) # [N, H, W, ro+rd+rgb, 3]\n",
    "rays_rgb = np.stack([rays_rgb[i] for i in i_train], 0) # train images only\n",
    "rays_rgb = np.reshape(rays_rgb, [-1,3,3]) # [(N-1)*H*W, ro+rd+rgb, 3]\n",
    "rays_rgb = rays_rgb.astype(np.float32)\n",
    "print('shuffle rays')\n",
    "np.random.shuffle(rays_rgb)\n",
    "\n",
    "print('done')\n",
    "i_batch = 0\n",
    "\n",
    "images = torch.Tensor(images).to(device)\n",
    "poses = torch.Tensor(poses).to(device)\n",
    "rays_rgb = torch.Tensor(rays_rgb).to(device)"
   ]
  },
  {
   "cell_type": "markdown",
   "id": "4579e44d-b387-403d-941b-4cb800c5e66c",
   "metadata": {
    "tags": []
   },
   "source": [
    "## Define Model"
   ]
  },
  {
   "cell_type": "code",
   "execution_count": 9,
   "id": "0a117b51-1c75-4c58-8cb2-fddfa4e36961",
   "metadata": {},
   "outputs": [],
   "source": [
    "class old_NeRF(nn.Module):\n",
    "    def __init__(self, in_pos = 3, in_view = 3, hidden = 256):\n",
    "        super(NeRF, self).__init__()\n",
    "        self.in_pos = in_pos\n",
    "        self.in_view = in_view\n",
    "        self.pos_encoding = tcnn.Encoding(in_pos , nnconfig[\"encoding\"])\n",
    "        self.dir_encoding = tcnn.Encoding(in_view, nnconfig[\"dir_encoding\"])\n",
    "        \n",
    "        self.l1 = nn.Linear(self.pos_encoding.n_output_dims, hidden)\n",
    "        self.l2 = nn.Linear(hidden, hidden)\n",
    "        self.l3 = nn.Linear(hidden, hidden)\n",
    "        self.l4 = nn.Linear(hidden, hidden)        \n",
    "        self.l5 = nn.Linear(self.pos_encoding.n_output_dims + hidden, hidden)\n",
    "        self.l6 = nn.Linear(hidden, hidden)    \n",
    "        self.l7 = nn.Linear(hidden, hidden)   \n",
    "        self.l8 = nn.Linear(hidden, hidden)   \n",
    "        self.l9 = nn.Linear(hidden, hidden)   \n",
    "        self.l0 = nn.Linear(hidden + self.dir_encoding.n_output_dims, hidden//2)\n",
    "        self.rgb = nn.Linear(hidden//2, 3)\n",
    "        self.sigma = nn.Linear(hidden, 1)\n",
    "        self.r = nn.ReLU()\n",
    "        self.s = nn.Sigmoid()\n",
    "        \n",
    "        self.o1 = nn.Linear(self.pos_encoding.n_output_dims + self.dir_encoding.n_output_dims, hidden)\n",
    "        self.o2 = nn.Linear(hidden, hidden)\n",
    "        self.o3 = nn.Linear(hidden, hidden)\n",
    "        self.o4 = nn.Linear(self.pos_encoding.n_output_dims + self.dir_encoding.n_output_dims + hidden, hidden)\n",
    "        self.o5 = nn.Linear(hidden, hidden)\n",
    "        self.o6 = nn.Linear(hidden, hidden//2)\n",
    "        self.out = nn.Linear(hidden//2, 3)\n",
    "    \n",
    "    def nerf(self, pos,view):\n",
    "        enc_pos = self.pos_encoding(pos).float()\n",
    "        enc_dir = self.dir_encoding(view).float()\n",
    "        out = self.r(self.l1(enc_pos))\n",
    "        out = self.r(self.l2(out))\n",
    "        out = self.r(self.l3(out))\n",
    "        out = self.r(self.l4(out))\n",
    "        out = self.r(self.l5(torch.cat([enc_pos, out], -1)))\n",
    "        out = self.r(self.l6(out))\n",
    "        out = self.r(self.l7(out))\n",
    "        out = self.r(self.l8(out))\n",
    "        sigma = self.sigma(out)\n",
    "        out = self.l9(out)\n",
    "        out = self.r(self.l0(torch.cat([enc_dir, out], -1)))\n",
    "        rgb = self.s(self.rgb(out))\n",
    "        return torch.cat([rgb, sigma], -1)\n",
    "    \n",
    "    def offset(self, x):\n",
    "        pos, view = torch.split(x, [self.in_pos, self.in_view], dim=-1)\n",
    "        enc_pos = self.pos_encoding(pos).float()\n",
    "        enc_dir = self.dir_encoding(view).float()\n",
    "        out = self.r(self.o1(torch.cat([enc_pos, enc_dir], -1)))\n",
    "        out = self.r(self.o2(out))\n",
    "        out = self.r(self.o3(out))\n",
    "        out = self.r(self.o4(torch.cat([enc_pos, enc_dir, out], -1)))\n",
    "        out = self.r(self.o5(out))\n",
    "        out = self.r(self.o6(out))\n",
    "        out = self.out(out)\n",
    "        return out\n",
    "    \n",
    "    def forward(self, x):\n",
    "        pos, view = torch.split(x, [self.in_pos, self.in_view], dim=-1)\n",
    "#        offset = self.offset(x)\n",
    "        return self.nerf(pos , view)"
   ]
  },
  {
   "cell_type": "code",
   "execution_count": 10,
   "id": "944c6989-b138-42b5-8c55-29de6f7e2a7c",
   "metadata": {},
   "outputs": [],
   "source": [
    "class NeRF(nn.Module):\n",
    "    def __init__(self, pos_in = 3, dir_in = 3, pos_out = 256, nnconfig = None):\n",
    "        super(NeRF, self).__init__()\n",
    "        self.pos_in, self.dir_in = pos_in, dir_in\n",
    "        self.pos_encoding = tcnn.Encoding(pos_in , nnconfig[\"encoding\"])\n",
    "        self.density = tcnn.Network(n_input_dims=self.pos_encoding.n_output_dims, n_output_dims=256, network_config=nnconfig[\"network\"])\n",
    "        self.dir_encoding = tcnn.Encoding(dir_in, nnconfig[\"dir_encoding\"])\n",
    "        self.rgb = tcnn.Network(n_input_dims=self.dir_encoding.n_output_dims + pos_out, n_output_dims=3, network_config=nnconfig[\"rgb_network\"])\n",
    "        self.offset = None\n",
    "\n",
    "    \n",
    "    def forward(self, x):\n",
    "        pos, view = torch.split(x, [self.pos_in, self.dir_in], dim=-1)\n",
    "        encoded_pos = self.pos_encoding(pos)\n",
    "        encoded_dir = self.dir_encoding(view)\n",
    "        density = self.density(encoded_pos)\n",
    "        rgb = self.rgb(torch.cat([density, encoded_dir], -1))\n",
    "        \n",
    "        return torch.cat([rgb,density[...,:1]], -1)"
   ]
  },
  {
   "cell_type": "markdown",
   "id": "cef9a903-39a1-4b58-a510-72d5c45cc9f3",
   "metadata": {
    "tags": []
   },
   "source": [
    "## Render Image"
   ]
  },
  {
   "cell_type": "code",
   "execution_count": 11,
   "id": "8ca59834-0afd-45a1-9de7-d41fa13bb32e",
   "metadata": {},
   "outputs": [],
   "source": [
    "def render(H, W, K, chunk = 1024*32, rays = None, c2w = None, ndc = True, near = 0., far = 1., **kwargs):\n",
    "    if c2w is not None:\n",
    "        rays_o, rays_d = get_rays(H, W, K, c2w)\n",
    "    else:\n",
    "        rays_o, rays_d = rays\n",
    "        \n",
    "    viewdirs = rays_d\n",
    "    viewdirs = viewdirs / torch.norm(viewdirs, dim=-1, keepdim=True)\n",
    "    viewdirs = torch.reshape(viewdirs, [-1,3]).float()\n",
    "    \n",
    "    shape = rays_d.shape\n",
    "    if ndc:\n",
    "        rays_o, rays_d = ndc_rays(H, W, K[0][0], 1., rays_o, rays_d)\n",
    "    \n",
    "    rays_o = torch.reshape(rays_o, [-1,3]).float()\n",
    "    rays_d = torch.reshape(rays_d, [-1,3]).float()\n",
    "    \n",
    "    near, far = near * torch.ones_like(rays_d[...,:1]), far * torch.ones_like(rays_d[...,:1])\n",
    "    rays = torch.cat([rays_o, rays_d, near, far], -1)\n",
    "    rays = torch.cat([rays, viewdirs], -1)\n",
    "    \n",
    "    all_ret = batchify_rays(rays, chunk, **kwargs)\n",
    "    for k in all_ret:\n",
    "        k_sh = list(shape[:-1]) + list(all_ret[k].shape[1:])\n",
    "        all_ret[k] = torch.reshape(all_ret[k], k_sh)\n",
    "\n",
    "    k_extract = ['rgb_map', 'disp_map', 'acc_map', 'dx']\n",
    "    ret_list = [all_ret[k] for k in k_extract]\n",
    "    ret_dict = {k : all_ret[k] for k in all_ret if k not in k_extract}\n",
    "    return ret_list + [ret_dict]\n",
    "    "
   ]
  },
  {
   "cell_type": "code",
   "execution_count": 12,
   "id": "ba9f2780-00db-4f16-84fe-b49ecdc8e8dc",
   "metadata": {},
   "outputs": [],
   "source": [
    "def batchify_rays(rays_flat, chunk=1024*32, **kwargs):\n",
    "    \"\"\"Render rays in smaller minibatches to avoid OOM.\n",
    "    \"\"\"\n",
    "    all_ret = {}\n",
    "    for i in range(0, rays_flat.shape[0], chunk):\n",
    "        ret = render_rays(rays_flat[i:i+chunk], **kwargs)\n",
    "        for k in ret:\n",
    "            if k not in all_ret:\n",
    "                all_ret[k] = []\n",
    "            all_ret[k].append(ret[k])\n",
    "\n",
    "    all_ret = {k : torch.cat(all_ret[k], 0) for k in all_ret}\n",
    "    return all_ret"
   ]
  },
  {
   "cell_type": "code",
   "execution_count": 13,
   "id": "735de496-a4ed-4aa8-bbd9-219a3efa648c",
   "metadata": {},
   "outputs": [],
   "source": [
    "def render_rays(ray_batch,\n",
    "                network_fn,\n",
    "                network_query_fn,\n",
    "                N_samples,\n",
    "                retraw=False,\n",
    "                lindisp=False,\n",
    "                perturb=0.,\n",
    "                N_importance=0,\n",
    "                network_fine=None,\n",
    "                white_bkgd=False,\n",
    "                raw_noise_std=0.,\n",
    "                verbose=False,\n",
    "                offset=None):\n",
    "    N_rays = ray_batch.shape[0]\n",
    "    rays_o, rays_d = ray_batch[:,0:3], ray_batch[:,3:6]\n",
    "    bounds = torch.reshape(ray_batch[...,6:8], [-1,1,2])\n",
    "    near, far = bounds[...,0], bounds[...,1] # [-1,1]\n",
    "    viewdirs = ray_batch[:,8:11]\n",
    "    \n",
    "    t_vals = torch.linspace(0., 1., steps=N_samples)\n",
    "    if not lindisp:\n",
    "        z_vals = near * (1.-t_vals) + far * (t_vals)\n",
    "    else:\n",
    "        z_vals = 1./(1./near * (1.-t_vals) + 1./far * (t_vals))\n",
    "    z_vals = z_vals.expand([N_rays, N_samples])\n",
    "    \n",
    "    if perturb > 0.:\n",
    "        # get intervals between samples\n",
    "        mids = .5 * (z_vals[...,1:] + z_vals[...,:-1])\n",
    "        upper = torch.cat([mids, z_vals[...,-1:]], -1)\n",
    "        lower = torch.cat([z_vals[...,:1], mids], -1)\n",
    "        # stratified samples in those intervals\n",
    "        t_rand = torch.rand(z_vals.shape)\n",
    "        \n",
    "        z_vals = lower + (upper - lower) * t_rand\n",
    "    \n",
    "    pos = rays_o[...,None,:] + rays_d[...,None,:] * z_vals[...,:,None]\n",
    "    \n",
    "    raw = network_query_fn(pos, viewdirs, network_fn)\n",
    "    if offset is None:\n",
    "        dx = torch.zeros_like(raw)\n",
    "    else:     \n",
    "        dx = network_query_fn(pos, viewdirs, offset)\n",
    "    rgb_map, disp_map, acc_map, weights, depth_map = raw2outputs(raw, z_vals, rays_d, raw_noise_std, white_bkgd)\n",
    "    \n",
    "    if N_importance > 0:\n",
    "\n",
    "        rgb_map_0, disp_map_0, acc_map_0 = rgb_map, disp_map, acc_map\n",
    "\n",
    "        z_vals_mid = .5 * (z_vals[...,1:] + z_vals[...,:-1])\n",
    "        z_samples = sample_pdf(z_vals_mid, weights[...,1:-1], N_importance, det=(perturb==0.))\n",
    "        z_samples = z_samples.detach()\n",
    "\n",
    "        z_vals, _ = torch.sort(torch.cat([z_vals, z_samples], -1), -1)\n",
    "        pts = rays_o[...,None,:] + rays_d[...,None,:] * z_vals[...,:,None] # [N_rays, N_samples + N_importance, 3]\n",
    "\n",
    "        run_fn = network_fn if network_fine is None else network_fine\n",
    "        raw = network_query_fn(pts, viewdirs, run_fn)\n",
    "\n",
    "        rgb_map, disp_map, acc_map, weights, depth_map = raw2outputs(raw, z_vals, rays_d, raw_noise_std, white_bkgd)\n",
    "\n",
    "    \n",
    "    ret = {'rgb_map' : rgb_map, 'disp_map' : disp_map, 'acc_map' : acc_map, 'dx':dx}\n",
    "    if retraw:\n",
    "        ret['raw'] = raw\n",
    "    if N_importance > 0:\n",
    "        ret['rgb0'] = rgb_map_0\n",
    "        ret['disp0'] = disp_map_0\n",
    "        ret['acc0'] = acc_map_0\n",
    "        ret['z_std'] = torch.std(z_samples, dim=-1, unbiased=False)  # [N_rays]\n",
    "    \n",
    "    for k in ret:\n",
    "        if (torch.isnan(ret[k]).any() or torch.isinf(ret[k]).any()):\n",
    "            print(f\"! [Numerical Error] {k} contains nan or inf.\")\n",
    "\n",
    "    return ret"
   ]
  },
  {
   "cell_type": "code",
   "execution_count": 14,
   "id": "bdf61b00-1fa8-4360-ab2b-9a73c4954d1e",
   "metadata": {},
   "outputs": [],
   "source": [
    "def raw2outputs(raw, z_vals, rays_d, raw_noise_std=0, white_bkgd=False):\n",
    "    \n",
    "    raw2alpha = lambda raw, dists, act_fn=F.relu: 1.-torch.exp(-act_fn(raw)*dists)\n",
    "    \n",
    "    dists = z_vals[...,1:] - z_vals[...,:-1]\n",
    "    dists = torch.cat([dists, torch.Tensor([1e10]).expand(dists[...,:1].shape)], -1)\n",
    "    \n",
    "    dists = dists * torch.norm(rays_d[...,None,:], dim=-1)\n",
    "    \n",
    "    rgb = raw[...,:3]\n",
    "    noise = 0.\n",
    "    if raw_noise_std > 0.:\n",
    "        noise = torch.randn(raw[...,3].shape) * raw_noise_std\n",
    "    \n",
    "    alpha = raw2alpha(raw[...,3] + noise, dists)\n",
    "    weights = alpha * torch.cumprod(torch.cat([torch.ones((alpha.shape[0], 1)), 1.-alpha + 1e-10], -1), -1)[:, :-1]\n",
    "    rgb_map = torch.sum(weights[...,None] * rgb, -2)\n",
    "    \n",
    "    depth_map = torch.sum(weights * z_vals, -1)\n",
    "    disp_map = 1./torch.max(1e-10 * torch.ones_like(depth_map), depth_map / torch.sum(weights, -1))\n",
    "    acc_map = torch.sum(weights, -1)\n",
    "\n",
    "    if white_bkgd:\n",
    "        rgb_map = rgb_map + (1.-acc_map[...,None])\n",
    "\n",
    "    return rgb_map, disp_map, acc_map, weights, depth_map    "
   ]
  },
  {
   "cell_type": "code",
   "execution_count": 15,
   "id": "a2c7d544-b43f-4849-adcd-7c6aa9d5efba",
   "metadata": {},
   "outputs": [],
   "source": [
    "def render_path(render_poses, hwf, K, chunk, render_kwargs, gt_imgs=None, savedir=None, render_factor=0):\n",
    "\n",
    "    H, W, focal = hwf\n",
    "\n",
    "    if render_factor!=0:\n",
    "        # Render downsampled for speed\n",
    "        H = H//render_factor\n",
    "        W = W//render_factor\n",
    "        focal = focal/render_factor\n",
    "\n",
    "    rgbs = []\n",
    "    disps = []\n",
    "\n",
    "    t = time.time() \n",
    "    for i, c2w in enumerate(tqdm(render_poses)):\n",
    "        print(i, time.time() - t)\n",
    "        t = time.time()\n",
    "        rgb, disp, acc,dx, _ = render(H, W, K, chunk=chunk, c2w=c2w[:3,:4], **render_kwargs)\n",
    "        rgbs.append(rgb.cpu().numpy())\n",
    "        disps.append(disp.cpu().numpy())\n",
    "        if i==0:\n",
    "            print(rgb.shape, disp.shape)\n",
    "\n",
    "        \"\"\"\n",
    "        if gt_imgs is not None and render_factor==0:\n",
    "            p = -10. * np.log10(np.mean(np.square(rgb.cpu().numpy() - gt_imgs[i])))\n",
    "            print(p)\n",
    "        \"\"\"\n",
    "\n",
    "        if savedir is not None:\n",
    "            rgb8 = to8b(rgbs[-1])\n",
    "            filename = os.path.join(savedir, '{:03d}.png'.format(i))\n",
    "            imageio.imwrite(filename, rgb8)\n",
    "\n",
    "\n",
    "    rgbs = np.stack(rgbs, 0)\n",
    "    disps = np.stack(disps, 0)\n",
    "\n",
    "    return rgbs, disps\n"
   ]
  },
  {
   "cell_type": "markdown",
   "id": "b0e40128-2e58-44d8-bded-1fc5afec05f1",
   "metadata": {
    "tags": []
   },
   "source": [
    "## Batchify Network"
   ]
  },
  {
   "cell_type": "code",
   "execution_count": 16,
   "id": "7c570d61-cd30-4441-ba9c-84a3583bc49a",
   "metadata": {},
   "outputs": [],
   "source": [
    "def batchify(fn, chunk):\n",
    "    \"\"\"Constructs a version of 'fn' that applies to smaller batches.\n",
    "    \"\"\"\n",
    "    if chunk is None:\n",
    "        return fn\n",
    "    def ret(inputs):\n",
    "        return torch.cat([fn(inputs[i:i+chunk]) for i in range(0, inputs.shape[0], chunk)], 0)\n",
    "    return ret\n",
    "\n",
    "\n",
    "def run_network(inputs, viewdirs, fn, netchunk=1024*64):\n",
    "    \"\"\"Prepares inputs and applies network 'fn'.\n",
    "    \"\"\"\n",
    "    inputs_flat = torch.reshape(inputs, [-1, inputs.shape[-1]])\n",
    "    input_dirs = viewdirs[:,None].expand(inputs.shape)\n",
    "    input_dirs_flat = torch.reshape(input_dirs, [-1, input_dirs.shape[-1]])\n",
    "    \n",
    "    out = torch.cat([inputs_flat, input_dirs_flat], -1)\n",
    "     \n",
    "    outputs_flat = batchify(fn, netchunk)(out)\n",
    "\n",
    "    outputs = torch.reshape(outputs_flat, list(inputs.shape[:-1]) + [outputs_flat.shape[-1]])\n",
    "    return outputs"
   ]
  },
  {
   "cell_type": "markdown",
   "id": "6f6deb7b-c7c9-4639-a2fe-479b47856730",
   "metadata": {
    "tags": []
   },
   "source": [
    "## Create Model"
   ]
  },
  {
   "cell_type": "code",
   "execution_count": 17,
   "id": "1bb340bb-ee00-4b8c-928a-d7f2d25d6f0e",
   "metadata": {},
   "outputs": [],
   "source": [
    "in_pos = 3\n",
    "in_view = 3\n",
    "hidden = args.netwidth\n",
    "model = NeRF(in_pos, in_view, hidden,nnconfig).to(device)\n",
    "grad_vars = list(model.parameters())\n",
    "\n",
    "model_fine = None\n",
    "if args.N_importance > 0:\n",
    "    model_fine = NeRF(in_pos, in_view, hidden,nnconfig).to(device)\n",
    "    grad_vars += list(model_fine.parameters())\n",
    "\n",
    "network_query_fn = lambda inputs, viewdirs, network_fn : run_network(inputs, viewdirs, network_fn,\n",
    "                                                                     netchunk=args.netchunk)\n",
    "optimizer = torch.optim.Adam(params=grad_vars, lr=args.lrate, betas=(0.9, 0.999))\n",
    "\n",
    "\n",
    "start = 0\n",
    "basedir = args.basedir\n",
    "expname = args.expname\n",
    "\n",
    "render_kwargs_train = {\n",
    "        'network_query_fn' : network_query_fn,\n",
    "        'perturb' : args.perturb,\n",
    "        'N_importance' : args.N_importance,\n",
    "        'network_fine' : model_fine,\n",
    "        'N_samples' : args.N_samples,\n",
    "        'network_fn' : model,\n",
    "        'white_bkgd' : args.white_bkgd,\n",
    "        'raw_noise_std' : args.raw_noise_std,\n",
    "        'offset' : model.offset,\n",
    "    }\n",
    "\n",
    "if args.dataset_type != 'llff' or args.no_ndc:\n",
    "    print('Not ndc!')\n",
    "    render_kwargs_train['ndc'] = False\n",
    "    render_kwargs_train['lindisp'] = args.lindisp\n",
    "    \n",
    "render_kwargs_test = {k : render_kwargs_train[k] for k in render_kwargs_train}\n",
    "render_kwargs_test['perturb'] = False\n",
    "render_kwargs_test['raw_noise_std'] = 0.\n",
    "\n",
    "global_step = start\n",
    "bds_dict = {\n",
    "    'near' : near,\n",
    "    'far' : far,\n",
    "}\n",
    "render_kwargs_train.update(bds_dict)\n",
    "render_kwargs_test.update(bds_dict)\n",
    "\n",
    "render_poses = torch.Tensor(render_poses).to(device)"
   ]
  },
  {
   "cell_type": "markdown",
   "id": "711cae83-cffe-4a5d-9d8f-e5592baf695f",
   "metadata": {
    "tags": []
   },
   "source": [
    "## Train model"
   ]
  },
  {
   "cell_type": "code",
   "execution_count": 18,
   "id": "0988fe67-89d5-4f29-9264-6fadea5865e6",
   "metadata": {},
   "outputs": [
    {
     "name": "stdout",
     "output_type": "stream",
     "text": [
      "Begin\n",
      "TRAIN views are [ 1  2  3  4  5  6  7  9 10 11 12 13 14 15 17 18 19]\n",
      "TEST views are [ 0  8 16]\n",
      "VAL views are [ 0  8 16]\n"
     ]
    }
   ],
   "source": [
    "N_iters = 100000 + 1\n",
    "print('Begin')\n",
    "print('TRAIN views are', i_train)\n",
    "print('TEST views are', i_test)\n",
    "print('VAL views are', i_val)"
   ]
  },
  {
   "cell_type": "code",
   "execution_count": 19,
   "id": "e7d3371d-3382-400b-a9c0-98d1f636b8b2",
   "metadata": {},
   "outputs": [
    {
     "name": "stderr",
     "output_type": "stream",
     "text": [
      "  6%|████▊                                                                       | 6334/100000 [02:03<30:47, 50.71it/s]"
     ]
    },
    {
     "name": "stdout",
     "output_type": "stream",
     "text": [
      "Shuffle data after an epoch!\n"
     ]
    },
    {
     "name": "stderr",
     "output_type": "stream",
     "text": [
      " 10%|███████▌                                                                   | 10005/100000 [03:14<29:51, 50.25it/s]"
     ]
    },
    {
     "name": "stdout",
     "output_type": "stream",
     "text": [
      "[TRAIN] Iter: 10000 Loss: 0.005648239981383085  PSNR: 22.480867385864258\n"
     ]
    },
    {
     "name": "stderr",
     "output_type": "stream",
     "text": [
      " 13%|█████████▍                                                                 | 12661/100000 [04:06<28:36, 50.87it/s]"
     ]
    },
    {
     "name": "stdout",
     "output_type": "stream",
     "text": [
      "Shuffle data after an epoch!\n"
     ]
    },
    {
     "name": "stderr",
     "output_type": "stream",
     "text": [
      " 19%|██████████████▏                                                            | 18986/100000 [06:09<25:59, 51.96it/s]"
     ]
    },
    {
     "name": "stdout",
     "output_type": "stream",
     "text": [
      "Shuffle data after an epoch!\n"
     ]
    },
    {
     "name": "stderr",
     "output_type": "stream",
     "text": [
      " 20%|███████████████                                                            | 20006/100000 [06:28<26:22, 50.55it/s]"
     ]
    },
    {
     "name": "stdout",
     "output_type": "stream",
     "text": [
      "[TRAIN] Iter: 20000 Loss: 0.004984147846698761  PSNR: 23.024089813232422\n"
     ]
    },
    {
     "name": "stderr",
     "output_type": "stream",
     "text": [
      " 25%|██████████████████▉                                                        | 25309/100000 [08:11<24:20, 51.13it/s]"
     ]
    },
    {
     "name": "stdout",
     "output_type": "stream",
     "text": [
      "Shuffle data after an epoch!\n"
     ]
    },
    {
     "name": "stderr",
     "output_type": "stream",
     "text": [
      " 30%|██████████████████████▌                                                    | 30007/100000 [09:42<23:16, 50.11it/s]"
     ]
    },
    {
     "name": "stdout",
     "output_type": "stream",
     "text": [
      "[TRAIN] Iter: 30000 Loss: 0.00486947875469923  PSNR: 23.12517547607422\n"
     ]
    },
    {
     "name": "stderr",
     "output_type": "stream",
     "text": [
      " 32%|███████████████████████▋                                                   | 31638/100000 [10:14<21:43, 52.45it/s]"
     ]
    },
    {
     "name": "stdout",
     "output_type": "stream",
     "text": [
      "Shuffle data after an epoch!\n"
     ]
    },
    {
     "name": "stderr",
     "output_type": "stream",
     "text": [
      " 38%|████████████████████████████▍                                              | 37963/100000 [12:17<19:36, 52.72it/s]"
     ]
    },
    {
     "name": "stdout",
     "output_type": "stream",
     "text": [
      "Shuffle data after an epoch!\n"
     ]
    },
    {
     "name": "stderr",
     "output_type": "stream",
     "text": [
      " 40%|██████████████████████████████                                             | 40004/100000 [12:56<19:24, 51.52it/s]"
     ]
    },
    {
     "name": "stdout",
     "output_type": "stream",
     "text": [
      "[TRAIN] Iter: 40000 Loss: 0.00416408758610487  PSNR: 23.804800033569336\n"
     ]
    },
    {
     "name": "stderr",
     "output_type": "stream",
     "text": [
      " 44%|█████████████████████████████████▏                                         | 44290/100000 [14:19<18:03, 51.42it/s]"
     ]
    },
    {
     "name": "stdout",
     "output_type": "stream",
     "text": [
      "Shuffle data after an epoch!\n"
     ]
    },
    {
     "name": "stderr",
     "output_type": "stream",
     "text": [
      " 50%|█████████████████████████████████████▍                                     | 49996/100000 [16:09<16:12, 51.40it/s]"
     ]
    },
    {
     "name": "stdout",
     "output_type": "stream",
     "text": [
      "[TRAIN] Iter: 50000 Loss: 0.0037175118923187256  PSNR: 24.297475814819336\n"
     ]
    },
    {
     "name": "stderr",
     "output_type": "stream",
     "text": [
      "\n",
      "  0%|                                                                                          | 0/120 [00:00<?, ?it/s]\u001b[AC:\\Users\\chuzh\\AppData\\Roaming\\Python\\Python39\\site-packages\\torch\\functional.py:504: UserWarning: torch.meshgrid: in an upcoming release, it will be required to pass the indexing argument. (Triggered internally at C:\\actions-runner\\_work\\pytorch\\pytorch\\builder\\windows\\pytorch\\aten\\src\\ATen\\native\\TensorShape.cpp:3191.)\n",
      "  return _VF.meshgrid(tensors, **kwargs)  # type: ignore[attr-defined]\n"
     ]
    },
    {
     "name": "stdout",
     "output_type": "stream",
     "text": [
      "0 0.0010001659393310547\n"
     ]
    },
    {
     "name": "stderr",
     "output_type": "stream",
     "text": [
      "\n",
      "  1%|▋                                                                                 | 1/120 [00:02<04:17,  2.17s/it]\u001b[A"
     ]
    },
    {
     "name": "stdout",
     "output_type": "stream",
     "text": [
      "torch.Size([378, 504, 3]) torch.Size([378, 504])\n",
      "1 2.167487859725952\n"
     ]
    },
    {
     "name": "stderr",
     "output_type": "stream",
     "text": [
      "\n",
      "  2%|█▎                                                                                | 2/120 [00:04<04:15,  2.17s/it]\u001b[A"
     ]
    },
    {
     "name": "stdout",
     "output_type": "stream",
     "text": [
      "2 2.1688592433929443\n"
     ]
    },
    {
     "name": "stderr",
     "output_type": "stream",
     "text": [
      "\n",
      "  2%|██                                                                                | 3/120 [00:06<04:13,  2.17s/it]\u001b[A"
     ]
    },
    {
     "name": "stdout",
     "output_type": "stream",
     "text": [
      "3 2.1636810302734375\n"
     ]
    },
    {
     "name": "stderr",
     "output_type": "stream",
     "text": [
      "\n",
      "  3%|██▋                                                                               | 4/120 [00:08<04:11,  2.17s/it]\u001b[A"
     ]
    },
    {
     "name": "stdout",
     "output_type": "stream",
     "text": [
      "4 2.165814161300659\n"
     ]
    },
    {
     "name": "stderr",
     "output_type": "stream",
     "text": [
      "\n",
      "  4%|███▍                                                                              | 5/120 [00:10<04:09,  2.17s/it]\u001b[A"
     ]
    },
    {
     "name": "stdout",
     "output_type": "stream",
     "text": [
      "5 2.1662232875823975\n"
     ]
    },
    {
     "name": "stderr",
     "output_type": "stream",
     "text": [
      " 50%|█████████████████████████████████████▍                                     | 49996/100000 [16:20<16:12, 51.40it/s]\n",
      "  5%|████                                                                              | 6/120 [00:12<04:06,  2.16s/it]\u001b[A"
     ]
    },
    {
     "name": "stdout",
     "output_type": "stream",
     "text": [
      "6 2.161163568496704\n"
     ]
    },
    {
     "name": "stderr",
     "output_type": "stream",
     "text": [
      "\n",
      "  6%|████▊                                                                             | 7/120 [00:15<04:04,  2.17s/it]\u001b[A"
     ]
    },
    {
     "name": "stdout",
     "output_type": "stream",
     "text": [
      "7 2.171018600463867\n"
     ]
    },
    {
     "name": "stderr",
     "output_type": "stream",
     "text": [
      "\n",
      "  7%|█████▍                                                                            | 8/120 [00:17<04:02,  2.17s/it]\u001b[A"
     ]
    },
    {
     "name": "stdout",
     "output_type": "stream",
     "text": [
      "8 2.166093349456787\n"
     ]
    },
    {
     "name": "stderr",
     "output_type": "stream",
     "text": [
      "\n",
      "  8%|██████▏                                                                           | 9/120 [00:19<04:00,  2.17s/it]\u001b[A"
     ]
    },
    {
     "name": "stdout",
     "output_type": "stream",
     "text": [
      "9 2.1645143032073975\n"
     ]
    },
    {
     "name": "stderr",
     "output_type": "stream",
     "text": [
      "\n",
      "  8%|██████▊                                                                          | 10/120 [00:21<03:58,  2.16s/it]\u001b[A"
     ]
    },
    {
     "name": "stdout",
     "output_type": "stream",
     "text": [
      "10 2.162165641784668\n"
     ]
    },
    {
     "name": "stderr",
     "output_type": "stream",
     "text": [
      "\n",
      "  9%|███████▍                                                                         | 11/120 [00:23<03:55,  2.16s/it]\u001b[A"
     ]
    },
    {
     "name": "stdout",
     "output_type": "stream",
     "text": [
      "11 2.1645796298980713\n"
     ]
    },
    {
     "name": "stderr",
     "output_type": "stream",
     "text": [
      "\n",
      " 10%|████████                                                                         | 12/120 [00:25<03:53,  2.16s/it]\u001b[A"
     ]
    },
    {
     "name": "stdout",
     "output_type": "stream",
     "text": [
      "12 2.163478374481201\n"
     ]
    },
    {
     "name": "stderr",
     "output_type": "stream",
     "text": [
      "\n",
      " 11%|████████▊                                                                        | 13/120 [00:28<03:51,  2.17s/it]\u001b[A"
     ]
    },
    {
     "name": "stdout",
     "output_type": "stream",
     "text": [
      "13 2.167745351791382\n"
     ]
    },
    {
     "name": "stderr",
     "output_type": "stream",
     "text": [
      "\n",
      " 12%|█████████▍                                                                       | 14/120 [00:30<03:49,  2.17s/it]\u001b[A"
     ]
    },
    {
     "name": "stdout",
     "output_type": "stream",
     "text": [
      "14 2.164520263671875\n"
     ]
    },
    {
     "name": "stderr",
     "output_type": "stream",
     "text": [
      "\n",
      " 12%|██████████▏                                                                      | 15/120 [00:32<03:47,  2.16s/it]\u001b[A"
     ]
    },
    {
     "name": "stdout",
     "output_type": "stream",
     "text": [
      "15 2.1641836166381836\n"
     ]
    },
    {
     "name": "stderr",
     "output_type": "stream",
     "text": [
      "\n",
      " 13%|██████████▊                                                                      | 16/120 [00:34<03:45,  2.17s/it]\u001b[A"
     ]
    },
    {
     "name": "stdout",
     "output_type": "stream",
     "text": [
      "16 2.1653659343719482\n"
     ]
    },
    {
     "name": "stderr",
     "output_type": "stream",
     "text": [
      "\n",
      " 14%|███████████▍                                                                     | 17/120 [00:36<03:42,  2.16s/it]\u001b[A"
     ]
    },
    {
     "name": "stdout",
     "output_type": "stream",
     "text": [
      "17 2.1645359992980957\n"
     ]
    },
    {
     "name": "stderr",
     "output_type": "stream",
     "text": [
      "\n",
      " 15%|████████████▏                                                                    | 18/120 [00:38<03:40,  2.17s/it]\u001b[A"
     ]
    },
    {
     "name": "stdout",
     "output_type": "stream",
     "text": [
      "18 2.1688008308410645\n"
     ]
    },
    {
     "name": "stderr",
     "output_type": "stream",
     "text": [
      "\n",
      " 16%|████████████▊                                                                    | 19/120 [00:41<03:38,  2.17s/it]\u001b[A"
     ]
    },
    {
     "name": "stdout",
     "output_type": "stream",
     "text": [
      "19 2.1645824909210205\n"
     ]
    },
    {
     "name": "stderr",
     "output_type": "stream",
     "text": [
      "\n",
      " 17%|█████████████▌                                                                   | 20/120 [00:43<03:36,  2.17s/it]\u001b[A"
     ]
    },
    {
     "name": "stdout",
     "output_type": "stream",
     "text": [
      "20 2.1657490730285645\n"
     ]
    },
    {
     "name": "stderr",
     "output_type": "stream",
     "text": [
      "\n",
      " 18%|██████████████▏                                                                  | 21/120 [00:45<03:34,  2.16s/it]\u001b[A"
     ]
    },
    {
     "name": "stdout",
     "output_type": "stream",
     "text": [
      "21 2.1642956733703613\n"
     ]
    },
    {
     "name": "stderr",
     "output_type": "stream",
     "text": [
      "\n",
      " 18%|██████████████▊                                                                  | 22/120 [00:47<03:32,  2.17s/it]\u001b[A"
     ]
    },
    {
     "name": "stdout",
     "output_type": "stream",
     "text": [
      "22 2.1664891242980957\n"
     ]
    },
    {
     "name": "stderr",
     "output_type": "stream",
     "text": [
      "\n",
      " 19%|███████████████▌                                                                 | 23/120 [00:49<03:30,  2.17s/it]\u001b[A"
     ]
    },
    {
     "name": "stdout",
     "output_type": "stream",
     "text": [
      "23 2.1648166179656982\n"
     ]
    },
    {
     "name": "stderr",
     "output_type": "stream",
     "text": [
      "\n",
      " 20%|████████████████▏                                                                | 24/120 [00:51<03:27,  2.17s/it]\u001b[A"
     ]
    },
    {
     "name": "stdout",
     "output_type": "stream",
     "text": [
      "24 2.1654937267303467\n"
     ]
    },
    {
     "name": "stderr",
     "output_type": "stream",
     "text": [
      "\n",
      " 21%|████████████████▉                                                                | 25/120 [00:54<03:25,  2.17s/it]\u001b[A"
     ]
    },
    {
     "name": "stdout",
     "output_type": "stream",
     "text": [
      "25 2.1639139652252197\n"
     ]
    },
    {
     "name": "stderr",
     "output_type": "stream",
     "text": [
      "\n",
      " 22%|█████████████████▌                                                               | 26/120 [00:56<03:23,  2.17s/it]\u001b[A"
     ]
    },
    {
     "name": "stdout",
     "output_type": "stream",
     "text": [
      "26 2.1665713787078857\n"
     ]
    },
    {
     "name": "stderr",
     "output_type": "stream",
     "text": [
      "\n",
      " 22%|██████████████████▏                                                              | 27/120 [00:58<03:21,  2.17s/it]\u001b[A"
     ]
    },
    {
     "name": "stdout",
     "output_type": "stream",
     "text": [
      "27 2.1726696491241455\n"
     ]
    },
    {
     "name": "stderr",
     "output_type": "stream",
     "text": [
      "\n",
      " 23%|██████████████████▉                                                              | 28/120 [01:00<03:19,  2.17s/it]\u001b[A"
     ]
    },
    {
     "name": "stdout",
     "output_type": "stream",
     "text": [
      "28 2.168060541152954\n"
     ]
    },
    {
     "name": "stderr",
     "output_type": "stream",
     "text": [
      "\n",
      " 24%|███████████████████▌                                                             | 29/120 [01:02<03:17,  2.17s/it]\u001b[A"
     ]
    },
    {
     "name": "stdout",
     "output_type": "stream",
     "text": [
      "29 2.1626245975494385\n"
     ]
    },
    {
     "name": "stderr",
     "output_type": "stream",
     "text": [
      "\n",
      " 25%|████████████████████▎                                                            | 30/120 [01:04<03:14,  2.17s/it]\u001b[A"
     ]
    },
    {
     "name": "stdout",
     "output_type": "stream",
     "text": [
      "30 2.163510322570801\n"
     ]
    },
    {
     "name": "stderr",
     "output_type": "stream",
     "text": [
      "\n",
      " 26%|████████████████████▉                                                            | 31/120 [01:07<03:12,  2.16s/it]\u001b[A"
     ]
    },
    {
     "name": "stdout",
     "output_type": "stream",
     "text": [
      "31 2.164606809616089\n"
     ]
    },
    {
     "name": "stderr",
     "output_type": "stream",
     "text": [
      "\n",
      " 27%|█████████████████████▌                                                           | 32/120 [01:09<03:10,  2.16s/it]\u001b[A"
     ]
    },
    {
     "name": "stdout",
     "output_type": "stream",
     "text": [
      "32 2.1626040935516357\n"
     ]
    },
    {
     "name": "stderr",
     "output_type": "stream",
     "text": [
      "\n",
      " 28%|██████████████████████▎                                                          | 33/120 [01:11<03:08,  2.16s/it]\u001b[A"
     ]
    },
    {
     "name": "stdout",
     "output_type": "stream",
     "text": [
      "33 2.162590742111206\n"
     ]
    },
    {
     "name": "stderr",
     "output_type": "stream",
     "text": [
      "\n",
      " 28%|██████████████████████▉                                                          | 34/120 [01:13<03:06,  2.16s/it]\u001b[A"
     ]
    },
    {
     "name": "stdout",
     "output_type": "stream",
     "text": [
      "34 2.1663568019866943\n"
     ]
    },
    {
     "name": "stderr",
     "output_type": "stream",
     "text": [
      "\n",
      " 29%|███████████████████████▋                                                         | 35/120 [01:15<03:03,  2.16s/it]\u001b[A"
     ]
    },
    {
     "name": "stdout",
     "output_type": "stream",
     "text": [
      "35 2.1626644134521484\n"
     ]
    },
    {
     "name": "stderr",
     "output_type": "stream",
     "text": [
      "\n",
      " 30%|████████████████████████▎                                                        | 36/120 [01:17<03:01,  2.17s/it]\u001b[A"
     ]
    },
    {
     "name": "stdout",
     "output_type": "stream",
     "text": [
      "36 2.1716630458831787\n"
     ]
    },
    {
     "name": "stderr",
     "output_type": "stream",
     "text": [
      "\n",
      " 31%|████████████████████████▉                                                        | 37/120 [01:20<02:59,  2.17s/it]\u001b[A"
     ]
    },
    {
     "name": "stdout",
     "output_type": "stream",
     "text": [
      "37 2.165008783340454\n"
     ]
    },
    {
     "name": "stderr",
     "output_type": "stream",
     "text": [
      "\n",
      " 32%|█████████████████████████▋                                                       | 38/120 [01:22<02:57,  2.17s/it]\u001b[A"
     ]
    },
    {
     "name": "stdout",
     "output_type": "stream",
     "text": [
      "38 2.1635539531707764\n"
     ]
    },
    {
     "name": "stderr",
     "output_type": "stream",
     "text": [
      "\n",
      " 32%|██████████████████████████▎                                                      | 39/120 [01:24<02:55,  2.17s/it]\u001b[A"
     ]
    },
    {
     "name": "stdout",
     "output_type": "stream",
     "text": [
      "39 2.1648435592651367\n"
     ]
    },
    {
     "name": "stderr",
     "output_type": "stream",
     "text": [
      "\n",
      " 33%|███████████████████████████                                                      | 40/120 [01:26<02:53,  2.17s/it]\u001b[A"
     ]
    },
    {
     "name": "stdout",
     "output_type": "stream",
     "text": [
      "40 2.165309429168701\n"
     ]
    },
    {
     "name": "stderr",
     "output_type": "stream",
     "text": [
      "\n",
      " 34%|███████████████████████████▋                                                     | 41/120 [01:28<02:51,  2.17s/it]\u001b[A"
     ]
    },
    {
     "name": "stdout",
     "output_type": "stream",
     "text": [
      "41 2.168142795562744\n"
     ]
    },
    {
     "name": "stderr",
     "output_type": "stream",
     "text": [
      "\n",
      " 35%|████████████████████████████▎                                                    | 42/120 [01:30<02:48,  2.17s/it]\u001b[A"
     ]
    },
    {
     "name": "stdout",
     "output_type": "stream",
     "text": [
      "42 2.166154623031616\n"
     ]
    },
    {
     "name": "stderr",
     "output_type": "stream",
     "text": [
      "\n",
      " 36%|█████████████████████████████                                                    | 43/120 [01:33<02:46,  2.17s/it]\u001b[A"
     ]
    },
    {
     "name": "stdout",
     "output_type": "stream",
     "text": [
      "43 2.1661155223846436\n"
     ]
    },
    {
     "name": "stderr",
     "output_type": "stream",
     "text": [
      "\n",
      " 37%|█████████████████████████████▋                                                   | 44/120 [01:35<02:44,  2.17s/it]\u001b[A"
     ]
    },
    {
     "name": "stdout",
     "output_type": "stream",
     "text": [
      "44 2.165911912918091\n"
     ]
    },
    {
     "name": "stderr",
     "output_type": "stream",
     "text": [
      "\n",
      " 38%|██████████████████████████████▍                                                  | 45/120 [01:37<02:42,  2.17s/it]\u001b[A"
     ]
    },
    {
     "name": "stdout",
     "output_type": "stream",
     "text": [
      "45 2.1696267127990723\n"
     ]
    },
    {
     "name": "stderr",
     "output_type": "stream",
     "text": [
      "\n",
      " 38%|███████████████████████████████                                                  | 46/120 [01:39<02:40,  2.17s/it]\u001b[A"
     ]
    },
    {
     "name": "stdout",
     "output_type": "stream",
     "text": [
      "46 2.165025472640991\n"
     ]
    },
    {
     "name": "stderr",
     "output_type": "stream",
     "text": [
      "\n",
      " 39%|███████████████████████████████▋                                                 | 47/120 [01:41<02:38,  2.17s/it]\u001b[A"
     ]
    },
    {
     "name": "stdout",
     "output_type": "stream",
     "text": [
      "47 2.1630842685699463\n"
     ]
    },
    {
     "name": "stderr",
     "output_type": "stream",
     "text": [
      "\n",
      " 40%|████████████████████████████████▍                                                | 48/120 [01:43<02:35,  2.16s/it]\u001b[A"
     ]
    },
    {
     "name": "stdout",
     "output_type": "stream",
     "text": [
      "48 2.1586410999298096\n"
     ]
    },
    {
     "name": "stderr",
     "output_type": "stream",
     "text": [
      "\n",
      " 41%|█████████████████████████████████                                                | 49/120 [01:46<02:33,  2.17s/it]\u001b[A"
     ]
    },
    {
     "name": "stdout",
     "output_type": "stream",
     "text": [
      "49 2.1719841957092285\n"
     ]
    },
    {
     "name": "stderr",
     "output_type": "stream",
     "text": [
      "\n",
      " 42%|█████████████████████████████████▊                                               | 50/120 [01:48<02:31,  2.17s/it]\u001b[A"
     ]
    },
    {
     "name": "stdout",
     "output_type": "stream",
     "text": [
      "50 2.1680643558502197\n"
     ]
    },
    {
     "name": "stderr",
     "output_type": "stream",
     "text": [
      "\n",
      " 42%|██████████████████████████████████▍                                              | 51/120 [01:50<02:29,  2.17s/it]\u001b[A"
     ]
    },
    {
     "name": "stdout",
     "output_type": "stream",
     "text": [
      "51 2.163069725036621\n"
     ]
    },
    {
     "name": "stderr",
     "output_type": "stream",
     "text": [
      "\n",
      " 43%|███████████████████████████████████                                              | 52/120 [01:52<02:27,  2.16s/it]\u001b[A"
     ]
    },
    {
     "name": "stdout",
     "output_type": "stream",
     "text": [
      "52 2.163116216659546\n"
     ]
    },
    {
     "name": "stderr",
     "output_type": "stream",
     "text": [
      "\n",
      " 44%|███████████████████████████████████▊                                             | 53/120 [01:54<02:25,  2.16s/it]\u001b[A"
     ]
    },
    {
     "name": "stdout",
     "output_type": "stream",
     "text": [
      "53 2.163569450378418\n"
     ]
    },
    {
     "name": "stderr",
     "output_type": "stream",
     "text": [
      "\n",
      " 45%|████████████████████████████████████▍                                            | 54/120 [01:56<02:22,  2.16s/it]\u001b[A"
     ]
    },
    {
     "name": "stdout",
     "output_type": "stream",
     "text": [
      "54 2.1600348949432373\n"
     ]
    },
    {
     "name": "stderr",
     "output_type": "stream",
     "text": [
      "\n",
      " 46%|█████████████████████████████████████▏                                           | 55/120 [01:59<02:20,  2.16s/it]\u001b[A"
     ]
    },
    {
     "name": "stdout",
     "output_type": "stream",
     "text": [
      "55 2.1600561141967773\n"
     ]
    },
    {
     "name": "stderr",
     "output_type": "stream",
     "text": [
      "\n",
      " 47%|█████████████████████████████████████▊                                           | 56/120 [02:01<02:18,  2.16s/it]\u001b[A"
     ]
    },
    {
     "name": "stdout",
     "output_type": "stream",
     "text": [
      "56 2.168891668319702\n"
     ]
    },
    {
     "name": "stderr",
     "output_type": "stream",
     "text": [
      "\n",
      " 48%|██████████████████████████████████████▍                                          | 57/120 [02:03<02:16,  2.16s/it]\u001b[A"
     ]
    },
    {
     "name": "stdout",
     "output_type": "stream",
     "text": [
      "57 2.160600185394287\n"
     ]
    },
    {
     "name": "stderr",
     "output_type": "stream",
     "text": [
      "\n",
      " 48%|███████████████████████████████████████▏                                         | 58/120 [02:05<02:14,  2.17s/it]\u001b[A"
     ]
    },
    {
     "name": "stdout",
     "output_type": "stream",
     "text": [
      "58 2.1702425479888916\n"
     ]
    },
    {
     "name": "stderr",
     "output_type": "stream",
     "text": [
      "\n",
      " 49%|███████████████████████████████████████▊                                         | 59/120 [02:07<02:12,  2.17s/it]\u001b[A"
     ]
    },
    {
     "name": "stdout",
     "output_type": "stream",
     "text": [
      "59 2.166996717453003\n"
     ]
    },
    {
     "name": "stderr",
     "output_type": "stream",
     "text": [
      "\n",
      " 50%|████████████████████████████████████████▌                                        | 60/120 [02:09<02:09,  2.17s/it]\u001b[A"
     ]
    },
    {
     "name": "stdout",
     "output_type": "stream",
     "text": [
      "60 2.1649158000946045\n"
     ]
    },
    {
     "name": "stderr",
     "output_type": "stream",
     "text": [
      "\n",
      " 51%|█████████████████████████████████████████▏                                       | 61/120 [02:12<02:07,  2.17s/it]\u001b[A"
     ]
    },
    {
     "name": "stdout",
     "output_type": "stream",
     "text": [
      "61 2.165008544921875\n"
     ]
    },
    {
     "name": "stderr",
     "output_type": "stream",
     "text": [
      "\n",
      " 52%|█████████████████████████████████████████▊                                       | 62/120 [02:14<02:05,  2.17s/it]\u001b[A"
     ]
    },
    {
     "name": "stdout",
     "output_type": "stream",
     "text": [
      "62 2.1659493446350098\n"
     ]
    },
    {
     "name": "stderr",
     "output_type": "stream",
     "text": [
      "\n",
      " 52%|██████████████████████████████████████████▌                                      | 63/120 [02:16<02:03,  2.17s/it]\u001b[A"
     ]
    },
    {
     "name": "stdout",
     "output_type": "stream",
     "text": [
      "63 2.166473865509033\n"
     ]
    },
    {
     "name": "stderr",
     "output_type": "stream",
     "text": [
      "\n",
      " 53%|███████████████████████████████████████████▏                                     | 64/120 [02:18<02:01,  2.17s/it]\u001b[A"
     ]
    },
    {
     "name": "stdout",
     "output_type": "stream",
     "text": [
      "64 2.166182279586792\n"
     ]
    },
    {
     "name": "stderr",
     "output_type": "stream",
     "text": [
      "\n",
      " 54%|███████████████████████████████████████████▉                                     | 65/120 [02:20<01:59,  2.17s/it]\u001b[A"
     ]
    },
    {
     "name": "stdout",
     "output_type": "stream",
     "text": [
      "65 2.1656737327575684\n"
     ]
    },
    {
     "name": "stderr",
     "output_type": "stream",
     "text": [
      "\n",
      " 55%|████████████████████████████████████████████▌                                    | 66/120 [02:22<01:56,  2.17s/it]\u001b[A"
     ]
    },
    {
     "name": "stdout",
     "output_type": "stream",
     "text": [
      "66 2.164630889892578\n"
     ]
    },
    {
     "name": "stderr",
     "output_type": "stream",
     "text": [
      "\n",
      " 56%|█████████████████████████████████████████████▏                                   | 67/120 [02:25<01:54,  2.17s/it]\u001b[A"
     ]
    },
    {
     "name": "stdout",
     "output_type": "stream",
     "text": [
      "67 2.1676597595214844\n"
     ]
    },
    {
     "name": "stderr",
     "output_type": "stream",
     "text": [
      "\n",
      " 57%|█████████████████████████████████████████████▉                                   | 68/120 [02:27<01:52,  2.17s/it]\u001b[A"
     ]
    },
    {
     "name": "stdout",
     "output_type": "stream",
     "text": [
      "68 2.1655216217041016\n"
     ]
    },
    {
     "name": "stderr",
     "output_type": "stream",
     "text": [
      "\n",
      " 57%|██████████████████████████████████████████████▌                                  | 69/120 [02:29<01:50,  2.17s/it]\u001b[A"
     ]
    },
    {
     "name": "stdout",
     "output_type": "stream",
     "text": [
      "69 2.165634870529175\n"
     ]
    },
    {
     "name": "stderr",
     "output_type": "stream",
     "text": [
      "\n",
      " 58%|███████████████████████████████████████████████▎                                 | 70/120 [02:31<01:48,  2.17s/it]\u001b[A"
     ]
    },
    {
     "name": "stdout",
     "output_type": "stream",
     "text": [
      "70 2.163571357727051\n"
     ]
    },
    {
     "name": "stderr",
     "output_type": "stream",
     "text": [
      "\n",
      " 59%|███████████████████████████████████████████████▉                                 | 71/120 [02:33<01:46,  2.16s/it]\u001b[A"
     ]
    },
    {
     "name": "stdout",
     "output_type": "stream",
     "text": [
      "71 2.1605701446533203\n"
     ]
    },
    {
     "name": "stderr",
     "output_type": "stream",
     "text": [
      "\n",
      " 60%|████████████████████████████████████████████████▌                                | 72/120 [02:35<01:43,  2.17s/it]\u001b[A"
     ]
    },
    {
     "name": "stdout",
     "output_type": "stream",
     "text": [
      "72 2.171713352203369\n"
     ]
    },
    {
     "name": "stderr",
     "output_type": "stream",
     "text": [
      "\n",
      " 61%|█████████████████████████████████████████████████▎                               | 73/120 [02:38<01:41,  2.17s/it]\u001b[A"
     ]
    },
    {
     "name": "stdout",
     "output_type": "stream",
     "text": [
      "73 2.163341999053955\n"
     ]
    },
    {
     "name": "stderr",
     "output_type": "stream",
     "text": [
      "\n",
      " 62%|█████████████████████████████████████████████████▉                               | 74/120 [02:40<01:39,  2.17s/it]\u001b[A"
     ]
    },
    {
     "name": "stdout",
     "output_type": "stream",
     "text": [
      "74 2.173139810562134\n"
     ]
    },
    {
     "name": "stderr",
     "output_type": "stream",
     "text": [
      "\n",
      " 62%|██████████████████████████████████████████████████▋                              | 75/120 [02:42<01:37,  2.17s/it]\u001b[A"
     ]
    },
    {
     "name": "stdout",
     "output_type": "stream",
     "text": [
      "75 2.165581703186035\n"
     ]
    },
    {
     "name": "stderr",
     "output_type": "stream",
     "text": [
      "\n",
      " 63%|███████████████████████████████████████████████████▎                             | 76/120 [02:44<01:35,  2.17s/it]\u001b[A"
     ]
    },
    {
     "name": "stdout",
     "output_type": "stream",
     "text": [
      "76 2.165539264678955\n"
     ]
    },
    {
     "name": "stderr",
     "output_type": "stream",
     "text": [
      "\n",
      " 64%|███████████████████████████████████████████████████▉                             | 77/120 [02:46<01:33,  2.17s/it]\u001b[A"
     ]
    },
    {
     "name": "stdout",
     "output_type": "stream",
     "text": [
      "77 2.162142753601074\n"
     ]
    },
    {
     "name": "stderr",
     "output_type": "stream",
     "text": [
      "\n",
      " 65%|████████████████████████████████████████████████████▋                            | 78/120 [02:48<01:30,  2.17s/it]\u001b[A"
     ]
    },
    {
     "name": "stdout",
     "output_type": "stream",
     "text": [
      "78 2.1692488193511963\n"
     ]
    },
    {
     "name": "stderr",
     "output_type": "stream",
     "text": [
      "\n",
      " 66%|█████████████████████████████████████████████████████▎                           | 79/120 [02:51<01:28,  2.17s/it]\u001b[A"
     ]
    },
    {
     "name": "stdout",
     "output_type": "stream",
     "text": [
      "79 2.166991710662842\n"
     ]
    },
    {
     "name": "stderr",
     "output_type": "stream",
     "text": [
      "\n",
      " 67%|██████████████████████████████████████████████████████                           | 80/120 [02:53<01:26,  2.17s/it]\u001b[A"
     ]
    },
    {
     "name": "stdout",
     "output_type": "stream",
     "text": [
      "80 2.167600154876709\n"
     ]
    },
    {
     "name": "stderr",
     "output_type": "stream",
     "text": [
      "\n",
      " 68%|██████████████████████████████████████████████████████▋                          | 81/120 [02:55<01:24,  2.17s/it]\u001b[A"
     ]
    },
    {
     "name": "stdout",
     "output_type": "stream",
     "text": [
      "81 2.1650922298431396\n"
     ]
    },
    {
     "name": "stderr",
     "output_type": "stream",
     "text": [
      "\n",
      " 68%|███████████████████████████████████████████████████████▎                         | 82/120 [02:57<01:22,  2.17s/it]\u001b[A"
     ]
    },
    {
     "name": "stdout",
     "output_type": "stream",
     "text": [
      "82 2.1718132495880127\n"
     ]
    },
    {
     "name": "stderr",
     "output_type": "stream",
     "text": [
      "\n",
      " 69%|████████████████████████████████████████████████████████                         | 83/120 [02:59<01:20,  2.17s/it]\u001b[A"
     ]
    },
    {
     "name": "stdout",
     "output_type": "stream",
     "text": [
      "83 2.1697065830230713\n"
     ]
    },
    {
     "name": "stderr",
     "output_type": "stream",
     "text": [
      "\n",
      " 70%|████████████████████████████████████████████████████████▋                        | 84/120 [03:01<01:18,  2.17s/it]\u001b[A"
     ]
    },
    {
     "name": "stdout",
     "output_type": "stream",
     "text": [
      "84 2.1656007766723633\n"
     ]
    },
    {
     "name": "stderr",
     "output_type": "stream",
     "text": [
      "\n",
      " 71%|█████████████████████████████████████████████████████████▍                       | 85/120 [03:04<01:15,  2.17s/it]\u001b[A"
     ]
    },
    {
     "name": "stdout",
     "output_type": "stream",
     "text": [
      "85 2.1599204540252686\n"
     ]
    },
    {
     "name": "stderr",
     "output_type": "stream",
     "text": [
      "\n",
      " 72%|██████████████████████████████████████████████████████████                       | 86/120 [03:06<01:13,  2.17s/it]\u001b[A"
     ]
    },
    {
     "name": "stdout",
     "output_type": "stream",
     "text": [
      "86 2.171145439147949\n"
     ]
    },
    {
     "name": "stderr",
     "output_type": "stream",
     "text": [
      "\n",
      " 72%|██████████████████████████████████████████████████████████▋                      | 87/120 [03:08<01:11,  2.17s/it]\u001b[A"
     ]
    },
    {
     "name": "stdout",
     "output_type": "stream",
     "text": [
      "87 2.168901205062866\n"
     ]
    },
    {
     "name": "stderr",
     "output_type": "stream",
     "text": [
      "\n",
      " 73%|███████████████████████████████████████████████████████████▍                     | 88/120 [03:10<01:09,  2.17s/it]\u001b[A"
     ]
    },
    {
     "name": "stdout",
     "output_type": "stream",
     "text": [
      "88 2.1649179458618164\n"
     ]
    },
    {
     "name": "stderr",
     "output_type": "stream",
     "text": [
      "\n",
      " 74%|████████████████████████████████████████████████████████████                     | 89/120 [03:12<01:07,  2.17s/it]\u001b[A"
     ]
    },
    {
     "name": "stdout",
     "output_type": "stream",
     "text": [
      "89 2.162755250930786\n"
     ]
    },
    {
     "name": "stderr",
     "output_type": "stream",
     "text": [
      "\n",
      " 75%|████████████████████████████████████████████████████████████▊                    | 90/120 [03:14<01:04,  2.17s/it]\u001b[A"
     ]
    },
    {
     "name": "stdout",
     "output_type": "stream",
     "text": [
      "90 2.1699464321136475\n"
     ]
    },
    {
     "name": "stderr",
     "output_type": "stream",
     "text": [
      "\n",
      " 76%|█████████████████████████████████████████████████████████████▍                   | 91/120 [03:17<01:02,  2.17s/it]\u001b[A"
     ]
    },
    {
     "name": "stdout",
     "output_type": "stream",
     "text": [
      "91 2.1666605472564697\n"
     ]
    },
    {
     "name": "stderr",
     "output_type": "stream",
     "text": [
      "\n",
      " 77%|██████████████████████████████████████████████████████████████                   | 92/120 [03:19<01:00,  2.17s/it]\u001b[A"
     ]
    },
    {
     "name": "stdout",
     "output_type": "stream",
     "text": [
      "92 2.167961597442627\n"
     ]
    },
    {
     "name": "stderr",
     "output_type": "stream",
     "text": [
      "\n",
      " 78%|██████████████████████████████████████████████████████████████▊                  | 93/120 [03:21<00:58,  2.17s/it]\u001b[A"
     ]
    },
    {
     "name": "stdout",
     "output_type": "stream",
     "text": [
      "93 2.164891004562378\n"
     ]
    },
    {
     "name": "stderr",
     "output_type": "stream",
     "text": [
      "\n",
      " 78%|███████████████████████████████████████████████████████████████▍                 | 94/120 [03:23<00:56,  2.17s/it]\u001b[A"
     ]
    },
    {
     "name": "stdout",
     "output_type": "stream",
     "text": [
      "94 2.168973445892334\n"
     ]
    },
    {
     "name": "stderr",
     "output_type": "stream",
     "text": [
      "\n",
      " 79%|████████████████████████████████████████████████████████████████▏                | 95/120 [03:25<00:54,  2.17s/it]\u001b[A"
     ]
    },
    {
     "name": "stdout",
     "output_type": "stream",
     "text": [
      "95 2.1658294200897217\n"
     ]
    },
    {
     "name": "stderr",
     "output_type": "stream",
     "text": [
      "\n",
      " 80%|████████████████████████████████████████████████████████████████▊                | 96/120 [03:27<00:52,  2.17s/it]\u001b[A"
     ]
    },
    {
     "name": "stdout",
     "output_type": "stream",
     "text": [
      "96 2.1659233570098877\n"
     ]
    },
    {
     "name": "stderr",
     "output_type": "stream",
     "text": [
      "\n",
      " 81%|█████████████████████████████████████████████████████████████████▍               | 97/120 [03:30<00:49,  2.17s/it]\u001b[A"
     ]
    },
    {
     "name": "stdout",
     "output_type": "stream",
     "text": [
      "97 2.165257453918457\n"
     ]
    },
    {
     "name": "stderr",
     "output_type": "stream",
     "text": [
      "\n",
      " 82%|██████████████████████████████████████████████████████████████████▏              | 98/120 [03:32<00:47,  2.17s/it]\u001b[A"
     ]
    },
    {
     "name": "stdout",
     "output_type": "stream",
     "text": [
      "98 2.1635258197784424\n"
     ]
    },
    {
     "name": "stderr",
     "output_type": "stream",
     "text": [
      "\n",
      " 82%|██████████████████████████████████████████████████████████████████▊              | 99/120 [03:34<00:45,  2.17s/it]\u001b[A"
     ]
    },
    {
     "name": "stdout",
     "output_type": "stream",
     "text": [
      "99 2.1678385734558105\n"
     ]
    },
    {
     "name": "stderr",
     "output_type": "stream",
     "text": [
      "\n",
      " 83%|██████████████████████████████████████████████████████████████████▋             | 100/120 [03:36<00:43,  2.17s/it]\u001b[A"
     ]
    },
    {
     "name": "stdout",
     "output_type": "stream",
     "text": [
      "100 2.1677045822143555\n"
     ]
    },
    {
     "name": "stderr",
     "output_type": "stream",
     "text": [
      "\n",
      " 84%|███████████████████████████████████████████████████████████████████▎            | 101/120 [03:38<00:41,  2.17s/it]\u001b[A"
     ]
    },
    {
     "name": "stdout",
     "output_type": "stream",
     "text": [
      "101 2.167966604232788\n"
     ]
    },
    {
     "name": "stderr",
     "output_type": "stream",
     "text": [
      "\n",
      " 85%|████████████████████████████████████████████████████████████████████            | 102/120 [03:40<00:39,  2.17s/it]\u001b[A"
     ]
    },
    {
     "name": "stdout",
     "output_type": "stream",
     "text": [
      "102 2.1665115356445312\n"
     ]
    },
    {
     "name": "stderr",
     "output_type": "stream",
     "text": [
      "\n",
      " 86%|████████████████████████████████████████████████████████████████████▋           | 103/120 [03:43<00:36,  2.17s/it]\u001b[A"
     ]
    },
    {
     "name": "stdout",
     "output_type": "stream",
     "text": [
      "103 2.166743040084839\n"
     ]
    },
    {
     "name": "stderr",
     "output_type": "stream",
     "text": [
      "\n",
      " 87%|█████████████████████████████████████████████████████████████████████▎          | 104/120 [03:45<00:34,  2.17s/it]\u001b[A"
     ]
    },
    {
     "name": "stdout",
     "output_type": "stream",
     "text": [
      "104 2.1652047634124756\n"
     ]
    },
    {
     "name": "stderr",
     "output_type": "stream",
     "text": [
      "\n",
      " 88%|██████████████████████████████████████████████████████████████████████          | 105/120 [03:47<00:32,  2.17s/it]\u001b[A"
     ]
    },
    {
     "name": "stdout",
     "output_type": "stream",
     "text": [
      "105 2.1679675579071045\n"
     ]
    },
    {
     "name": "stderr",
     "output_type": "stream",
     "text": [
      "\n",
      " 88%|██████████████████████████████████████████████████████████████████████▋         | 106/120 [03:49<00:30,  2.17s/it]\u001b[A"
     ]
    },
    {
     "name": "stdout",
     "output_type": "stream",
     "text": [
      "106 2.166943073272705\n"
     ]
    },
    {
     "name": "stderr",
     "output_type": "stream",
     "text": [
      "\n",
      " 89%|███████████████████████████████████████████████████████████████████████▎        | 107/120 [03:51<00:28,  2.17s/it]\u001b[A"
     ]
    },
    {
     "name": "stdout",
     "output_type": "stream",
     "text": [
      "107 2.1648478507995605\n"
     ]
    },
    {
     "name": "stderr",
     "output_type": "stream",
     "text": [
      "\n",
      " 90%|████████████████████████████████████████████████████████████████████████        | 108/120 [03:53<00:25,  2.17s/it]\u001b[A"
     ]
    },
    {
     "name": "stdout",
     "output_type": "stream",
     "text": [
      "108 2.1625912189483643\n"
     ]
    },
    {
     "name": "stderr",
     "output_type": "stream",
     "text": [
      "\n",
      " 91%|████████████████████████████████████████████████████████████████████████▋       | 109/120 [03:56<00:23,  2.17s/it]\u001b[A"
     ]
    },
    {
     "name": "stdout",
     "output_type": "stream",
     "text": [
      "109 2.1681182384490967\n"
     ]
    },
    {
     "name": "stderr",
     "output_type": "stream",
     "text": [
      "\n",
      " 92%|█████████████████████████████████████████████████████████████████████████▎      | 110/120 [03:58<00:21,  2.17s/it]\u001b[A"
     ]
    },
    {
     "name": "stdout",
     "output_type": "stream",
     "text": [
      "110 2.1689646244049072\n"
     ]
    },
    {
     "name": "stderr",
     "output_type": "stream",
     "text": [
      "\n",
      " 92%|██████████████████████████████████████████████████████████████████████████      | 111/120 [04:00<00:19,  2.17s/it]\u001b[A"
     ]
    },
    {
     "name": "stdout",
     "output_type": "stream",
     "text": [
      "111 2.1681482791900635\n"
     ]
    },
    {
     "name": "stderr",
     "output_type": "stream",
     "text": [
      "\n",
      " 93%|██████████████████████████████████████████████████████████████████████████▋     | 112/120 [04:02<00:17,  2.17s/it]\u001b[A"
     ]
    },
    {
     "name": "stdout",
     "output_type": "stream",
     "text": [
      "112 2.1678121089935303\n"
     ]
    },
    {
     "name": "stderr",
     "output_type": "stream",
     "text": [
      "\n",
      " 94%|███████████████████████████████████████████████████████████████████████████▎    | 113/120 [04:04<00:15,  2.17s/it]\u001b[A"
     ]
    },
    {
     "name": "stdout",
     "output_type": "stream",
     "text": [
      "113 2.1670327186584473\n"
     ]
    },
    {
     "name": "stderr",
     "output_type": "stream",
     "text": [
      "\n",
      " 95%|████████████████████████████████████████████████████████████████████████████    | 114/120 [04:06<00:13,  2.17s/it]\u001b[A"
     ]
    },
    {
     "name": "stdout",
     "output_type": "stream",
     "text": [
      "114 2.167664051055908\n"
     ]
    },
    {
     "name": "stderr",
     "output_type": "stream",
     "text": [
      "\n",
      " 96%|████████████████████████████████████████████████████████████████████████████▋   | 115/120 [04:09<00:10,  2.17s/it]\u001b[A"
     ]
    },
    {
     "name": "stdout",
     "output_type": "stream",
     "text": [
      "115 2.16837477684021\n"
     ]
    },
    {
     "name": "stderr",
     "output_type": "stream",
     "text": [
      "\n",
      " 97%|█████████████████████████████████████████████████████████████████████████████▎  | 116/120 [04:11<00:08,  2.17s/it]\u001b[A"
     ]
    },
    {
     "name": "stdout",
     "output_type": "stream",
     "text": [
      "116 2.16442608833313\n"
     ]
    },
    {
     "name": "stderr",
     "output_type": "stream",
     "text": [
      "\n",
      " 98%|██████████████████████████████████████████████████████████████████████████████  | 117/120 [04:13<00:06,  2.17s/it]\u001b[A"
     ]
    },
    {
     "name": "stdout",
     "output_type": "stream",
     "text": [
      "117 2.1669251918792725\n"
     ]
    },
    {
     "name": "stderr",
     "output_type": "stream",
     "text": [
      "\n",
      " 98%|██████████████████████████████████████████████████████████████████████████████▋ | 118/120 [04:15<00:04,  2.17s/it]\u001b[A"
     ]
    },
    {
     "name": "stdout",
     "output_type": "stream",
     "text": [
      "118 2.1670050621032715\n"
     ]
    },
    {
     "name": "stderr",
     "output_type": "stream",
     "text": [
      "\n",
      " 99%|███████████████████████████████████████████████████████████████████████████████▎| 119/120 [04:17<00:02,  2.17s/it]\u001b[A"
     ]
    },
    {
     "name": "stdout",
     "output_type": "stream",
     "text": [
      "119 2.1683857440948486\n"
     ]
    },
    {
     "name": "stderr",
     "output_type": "stream",
     "text": [
      "\n",
      "100%|████████████████████████████████████████████████████████████████████████████████| 120/120 [04:19<00:00,  2.17s/it]\u001b[A\n"
     ]
    },
    {
     "name": "stdout",
     "output_type": "stream",
     "text": [
      "Done, saving (120, 378, 504, 3) (120, 378, 504)\n"
     ]
    },
    {
     "name": "stderr",
     "output_type": "stream",
     "text": [
      "IMAGEIO FFMPEG_WRITER WARNING: input image is not divisible by macro_block_size=16, resizing from (504, 378) to (512, 384) to ensure video compatibility with most codecs and players. To prevent resizing, make your input image divisible by the macro_block_size or set the macro_block_size to 1 (risking incompatibility).\n",
      "IMAGEIO FFMPEG_WRITER WARNING: input image is not divisible by macro_block_size=16, resizing from (504, 378) to (512, 384) to ensure video compatibility with most codecs and players. To prevent resizing, make your input image divisible by the macro_block_size or set the macro_block_size to 1 (risking incompatibility).\n"
     ]
    },
    {
     "name": "stdout",
     "output_type": "stream",
     "text": [
      "test poses shape torch.Size([3, 3, 4])\n"
     ]
    },
    {
     "name": "stderr",
     "output_type": "stream",
     "text": [
      "\n",
      "  0%|                                                                                            | 0/3 [00:00<?, ?it/s]\u001b[A"
     ]
    },
    {
     "name": "stdout",
     "output_type": "stream",
     "text": [
      "0 0.0009999275207519531\n"
     ]
    },
    {
     "name": "stderr",
     "output_type": "stream",
     "text": [
      "\n",
      " 33%|████████████████████████████                                                        | 1/3 [00:02<00:04,  2.29s/it]\u001b[A"
     ]
    },
    {
     "name": "stdout",
     "output_type": "stream",
     "text": [
      "torch.Size([378, 504, 3]) torch.Size([378, 504])\n",
      "1 2.2892422676086426\n"
     ]
    },
    {
     "name": "stderr",
     "output_type": "stream",
     "text": [
      "\n",
      " 67%|████████████████████████████████████████████████████████                            | 2/3 [00:04<00:02,  2.30s/it]\u001b[A"
     ]
    },
    {
     "name": "stdout",
     "output_type": "stream",
     "text": [
      "2 2.305351495742798\n"
     ]
    },
    {
     "name": "stderr",
     "output_type": "stream",
     "text": [
      "\n",
      "100%|████████████████████████████████████████████████████████████████████████████████████| 3/3 [00:06<00:00,  2.30s/it]\u001b[A\n",
      " 50%|███████████████████████████████████▌                                   | 50005/100000 [20:37<148:28:17, 10.69s/it]"
     ]
    },
    {
     "name": "stdout",
     "output_type": "stream",
     "text": [
      "Saved test set\n"
     ]
    },
    {
     "name": "stderr",
     "output_type": "stream",
     "text": [
      " 51%|█████████████████████████████████████▉                                     | 50617/100000 [20:49<15:40, 52.48it/s]"
     ]
    },
    {
     "name": "stdout",
     "output_type": "stream",
     "text": [
      "Shuffle data after an epoch!\n"
     ]
    },
    {
     "name": "stderr",
     "output_type": "stream",
     "text": [
      " 57%|██████████████████████████████████████████▋                                | 56943/100000 [22:52<14:21, 49.96it/s]"
     ]
    },
    {
     "name": "stdout",
     "output_type": "stream",
     "text": [
      "Shuffle data after an epoch!\n"
     ]
    },
    {
     "name": "stderr",
     "output_type": "stream",
     "text": [
      " 60%|█████████████████████████████████████████████                              | 60006/100000 [23:51<13:02, 51.09it/s]"
     ]
    },
    {
     "name": "stdout",
     "output_type": "stream",
     "text": [
      "[TRAIN] Iter: 60000 Loss: 0.005289096385240555  PSNR: 22.766183853149414\n"
     ]
    },
    {
     "name": "stderr",
     "output_type": "stream",
     "text": [
      " 63%|███████████████████████████████████████████████▍                           | 63267/100000 [24:54<11:44, 52.11it/s]"
     ]
    },
    {
     "name": "stdout",
     "output_type": "stream",
     "text": [
      "Shuffle data after an epoch!\n"
     ]
    },
    {
     "name": "stderr",
     "output_type": "stream",
     "text": [
      " 70%|████████████████████████████████████████████████████▏                      | 69594/100000 [26:56<09:36, 52.74it/s]"
     ]
    },
    {
     "name": "stdout",
     "output_type": "stream",
     "text": [
      "Shuffle data after an epoch!\n"
     ]
    },
    {
     "name": "stderr",
     "output_type": "stream",
     "text": [
      " 70%|████████████████████████████████████████████████████▌                      | 70008/100000 [27:04<09:40, 51.69it/s]"
     ]
    },
    {
     "name": "stdout",
     "output_type": "stream",
     "text": [
      "[TRAIN] Iter: 70000 Loss: 0.0029260367155075073  PSNR: 25.337202072143555\n"
     ]
    },
    {
     "name": "stderr",
     "output_type": "stream",
     "text": [
      " 76%|████████████████████████████████████████████████████████▉                  | 75918/100000 [28:58<07:35, 52.84it/s]"
     ]
    },
    {
     "name": "stdout",
     "output_type": "stream",
     "text": [
      "Shuffle data after an epoch!\n"
     ]
    },
    {
     "name": "stderr",
     "output_type": "stream",
     "text": [
      " 80%|████████████████████████████████████████████████████████████               | 80010/100000 [30:16<06:18, 52.82it/s]"
     ]
    },
    {
     "name": "stdout",
     "output_type": "stream",
     "text": [
      "[TRAIN] Iter: 80000 Loss: 0.0038545632269233465  PSNR: 24.140247344970703\n"
     ]
    },
    {
     "name": "stderr",
     "output_type": "stream",
     "text": [
      " 82%|█████████████████████████████████████████████████████████████▋             | 82242/100000 [30:58<05:32, 53.35it/s]"
     ]
    },
    {
     "name": "stdout",
     "output_type": "stream",
     "text": [
      "Shuffle data after an epoch!\n"
     ]
    },
    {
     "name": "stderr",
     "output_type": "stream",
     "text": [
      " 89%|██████████████████████████████████████████████████████████████████▍        | 88573/100000 [32:59<03:35, 53.05it/s]"
     ]
    },
    {
     "name": "stdout",
     "output_type": "stream",
     "text": [
      "Shuffle data after an epoch!\n"
     ]
    },
    {
     "name": "stderr",
     "output_type": "stream",
     "text": [
      " 90%|███████████████████████████████████████████████████████████████████▌       | 90007/100000 [33:26<03:06, 53.44it/s]"
     ]
    },
    {
     "name": "stdout",
     "output_type": "stream",
     "text": [
      "[TRAIN] Iter: 90000 Loss: 0.0029861158691346645  PSNR: 25.248933792114258\n"
     ]
    },
    {
     "name": "stderr",
     "output_type": "stream",
     "text": [
      " 91%|████████████████████████████████████████████████████████████████████▏      | 90913/100000 [33:44<02:52, 52.81it/s]"
     ]
    },
    {
     "name": "stdout",
     "output_type": "stream",
     "text": [
      "! [Numerical Error] disp_map contains nan or inf.\n",
      "! [Numerical Error] disp_map contains nan or inf.\n",
      "! [Numerical Error] disp_map contains nan or inf.\n",
      "! [Numerical Error] disp_map contains nan or inf.\n",
      "! [Numerical Error] disp_map contains nan or inf.\n",
      "! [Numerical Error] disp_map contains nan or inf.\n",
      "! [Numerical Error] disp_map contains nan or inf.\n",
      "! [Numerical Error] disp_map contains nan or inf.\n",
      "! [Numerical Error] disp_map contains nan or inf.\n",
      "! [Numerical Error] disp_map contains nan or inf.\n"
     ]
    },
    {
     "name": "stderr",
     "output_type": "stream",
     "text": [
      " 91%|████████████████████████████████████████████████████████████████████▏      | 90925/100000 [33:44<02:51, 52.85it/s]"
     ]
    },
    {
     "name": "stdout",
     "output_type": "stream",
     "text": [
      "! [Numerical Error] disp_map contains nan or inf.\n"
     ]
    },
    {
     "name": "stderr",
     "output_type": "stream",
     "text": [
      " 93%|█████████████████████████████████████████████████████████████████████▉     | 93169/100000 [34:27<02:10, 52.24it/s]"
     ]
    },
    {
     "name": "stdout",
     "output_type": "stream",
     "text": [
      "! [Numerical Error] disp_map contains nan or inf.\n"
     ]
    },
    {
     "name": "stderr",
     "output_type": "stream",
     "text": [
      " 94%|██████████████████████████████████████████████████████████████████████▌    | 94111/100000 [34:45<01:53, 51.95it/s]"
     ]
    },
    {
     "name": "stdout",
     "output_type": "stream",
     "text": [
      "! [Numerical Error] disp_map contains nan or inf.\n",
      "! [Numerical Error] disp_map contains nan or inf.\n"
     ]
    },
    {
     "name": "stderr",
     "output_type": "stream",
     "text": [
      " 95%|███████████████████████████████████████████████████████████████████████▏   | 94897/100000 [35:00<01:38, 51.91it/s]"
     ]
    },
    {
     "name": "stdout",
     "output_type": "stream",
     "text": [
      "Shuffle data after an epoch!\n"
     ]
    },
    {
     "name": "stderr",
     "output_type": "stream",
     "text": [
      " 95%|███████████████████████████████████████████████████████████████████████▎   | 95101/100000 [35:03<01:32, 53.04it/s]"
     ]
    },
    {
     "name": "stdout",
     "output_type": "stream",
     "text": [
      "! [Numerical Error] disp_map contains nan or inf.\n"
     ]
    },
    {
     "name": "stderr",
     "output_type": "stream",
     "text": [
      " 96%|███████████████████████████████████████████████████████████████████████▉   | 95972/100000 [35:20<01:15, 53.14it/s]"
     ]
    },
    {
     "name": "stdout",
     "output_type": "stream",
     "text": [
      "! [Numerical Error] disp_map contains nan or inf.\n",
      "! [Numerical Error] disp_map contains nan or inf.\n"
     ]
    },
    {
     "name": "stderr",
     "output_type": "stream",
     "text": [
      " 96%|████████████████████████████████████████████████████████████████████████▎  | 96365/100000 [35:30<01:15, 48.29it/s]"
     ]
    },
    {
     "name": "stdout",
     "output_type": "stream",
     "text": [
      "! [Numerical Error] disp_map contains nan or inf.\n"
     ]
    },
    {
     "name": "stderr",
     "output_type": "stream",
     "text": [
      " 96%|████████████████████████████████████████████████████████████████████████▎  | 96380/100000 [35:31<01:15, 48.14it/s]"
     ]
    },
    {
     "name": "stdout",
     "output_type": "stream",
     "text": [
      "! [Numerical Error] disp_map contains nan or inf.\n",
      "! [Numerical Error] disp_map contains nan or inf.\n"
     ]
    },
    {
     "name": "stderr",
     "output_type": "stream",
     "text": [
      " 97%|████████████████████████████████████████████████████████████████████████▍  | 96580/100000 [35:35<01:11, 48.13it/s]"
     ]
    },
    {
     "name": "stdout",
     "output_type": "stream",
     "text": [
      "! [Numerical Error] disp_map contains nan or inf.\n"
     ]
    },
    {
     "name": "stderr",
     "output_type": "stream",
     "text": [
      " 97%|████████████████████████████████████████████████████████████████████████▌  | 96668/100000 [35:37<01:09, 47.71it/s]"
     ]
    },
    {
     "name": "stdout",
     "output_type": "stream",
     "text": [
      "! [Numerical Error] disp_map contains nan or inf.\n"
     ]
    },
    {
     "name": "stderr",
     "output_type": "stream",
     "text": [
      " 97%|████████████████████████████████████████████████████████████████████████▋  | 96942/100000 [35:42<01:02, 48.72it/s]"
     ]
    },
    {
     "name": "stdout",
     "output_type": "stream",
     "text": [
      "! [Numerical Error] disp_map contains nan or inf.\n"
     ]
    },
    {
     "name": "stderr",
     "output_type": "stream",
     "text": [
      " 97%|████████████████████████████████████████████████████████████████████████▋  | 96987/100000 [35:43<00:59, 50.61it/s]"
     ]
    },
    {
     "name": "stdout",
     "output_type": "stream",
     "text": [
      "! [Numerical Error] disp_map contains nan or inf.\n"
     ]
    },
    {
     "name": "stderr",
     "output_type": "stream",
     "text": [
      " 97%|████████████████████████████████████████████████████████████████████████▊  | 97064/100000 [35:45<01:02, 46.79it/s]"
     ]
    },
    {
     "name": "stdout",
     "output_type": "stream",
     "text": [
      "! [Numerical Error] disp_map contains nan or inf.\n",
      "! [Numerical Error] disp_map contains nan or inf.\n"
     ]
    },
    {
     "name": "stderr",
     "output_type": "stream",
     "text": [
      " 97%|████████████████████████████████████████████████████████████████████████▊  | 97075/100000 [35:45<01:03, 45.99it/s]"
     ]
    },
    {
     "name": "stdout",
     "output_type": "stream",
     "text": [
      "! [Numerical Error] disp_map contains nan or inf.\n",
      "! [Numerical Error] disp_map contains nan or inf.\n",
      "! [Numerical Error] disp_map contains nan or inf.\n"
     ]
    },
    {
     "name": "stderr",
     "output_type": "stream",
     "text": [
      " 99%|█████████████████████████████████████████████████████████████████████████▉ | 98644/100000 [36:16<00:26, 51.99it/s]"
     ]
    },
    {
     "name": "stdout",
     "output_type": "stream",
     "text": [
      "! [Numerical Error] disp_map contains nan or inf.\n"
     ]
    },
    {
     "name": "stderr",
     "output_type": "stream",
     "text": [
      "100%|██████████████████████████████████████████████████████████████████████████▉| 99994/100000 [36:43<00:00, 51.62it/s]"
     ]
    },
    {
     "name": "stdout",
     "output_type": "stream",
     "text": [
      "[TRAIN] Iter: 100000 Loss: 0.004255938343703747  PSNR: 23.710046768188477\n"
     ]
    },
    {
     "name": "stderr",
     "output_type": "stream",
     "text": [
      "\n",
      "  0%|                                                                                          | 0/120 [00:00<?, ?it/s]\u001b[A"
     ]
    },
    {
     "name": "stdout",
     "output_type": "stream",
     "text": [
      "0 0.0009992122650146484\n"
     ]
    },
    {
     "name": "stderr",
     "output_type": "stream",
     "text": [
      "\n",
      "  1%|▋                                                                                 | 1/120 [00:02<04:21,  2.20s/it]\u001b[A"
     ]
    },
    {
     "name": "stdout",
     "output_type": "stream",
     "text": [
      "torch.Size([378, 504, 3]) torch.Size([378, 504])\n",
      "1 2.2015111446380615\n"
     ]
    },
    {
     "name": "stderr",
     "output_type": "stream",
     "text": [
      "\n",
      "  2%|█▎                                                                                | 2/120 [00:04<04:25,  2.25s/it]\u001b[A"
     ]
    },
    {
     "name": "stdout",
     "output_type": "stream",
     "text": [
      "2 2.277521848678589\n"
     ]
    },
    {
     "name": "stderr",
     "output_type": "stream",
     "text": [
      "\n",
      "  2%|██                                                                                | 3/120 [00:06<04:29,  2.30s/it]\u001b[A"
     ]
    },
    {
     "name": "stdout",
     "output_type": "stream",
     "text": [
      "3 2.3643603324890137\n"
     ]
    },
    {
     "name": "stderr",
     "output_type": "stream",
     "text": [
      "\n",
      "  3%|██▋                                                                               | 4/120 [00:09<04:29,  2.32s/it]\u001b[A"
     ]
    },
    {
     "name": "stdout",
     "output_type": "stream",
     "text": [
      "4 2.3625307083129883\n"
     ]
    },
    {
     "name": "stderr",
     "output_type": "stream",
     "text": [
      "\n",
      "  4%|███▍                                                                              | 5/120 [00:11<04:24,  2.30s/it]\u001b[A"
     ]
    },
    {
     "name": "stdout",
     "output_type": "stream",
     "text": [
      "5 2.266883611679077\n"
     ]
    },
    {
     "name": "stderr",
     "output_type": "stream",
     "text": [
      "\n",
      "  5%|████                                                                              | 6/120 [00:13<04:21,  2.29s/it]\u001b[A"
     ]
    },
    {
     "name": "stdout",
     "output_type": "stream",
     "text": [
      "6 2.270547866821289\n"
     ]
    },
    {
     "name": "stderr",
     "output_type": "stream",
     "text": [
      "\n",
      "  6%|████▊                                                                             | 7/120 [00:16<04:19,  2.29s/it]\u001b[A"
     ]
    },
    {
     "name": "stdout",
     "output_type": "stream",
     "text": [
      "7 2.2993483543395996\n"
     ]
    },
    {
     "name": "stderr",
     "output_type": "stream",
     "text": [
      "\n",
      "  7%|█████▍                                                                            | 8/120 [00:18<04:16,  2.29s/it]\u001b[A"
     ]
    },
    {
     "name": "stdout",
     "output_type": "stream",
     "text": [
      "8 2.282526731491089\n"
     ]
    },
    {
     "name": "stderr",
     "output_type": "stream",
     "text": [
      "100%|██████████████████████████████████████████████████████████████████████████▉| 99994/100000 [37:01<00:00, 51.62it/s]\n",
      "  8%|██████▏                                                                           | 9/120 [00:20<04:16,  2.31s/it]\u001b[A"
     ]
    },
    {
     "name": "stdout",
     "output_type": "stream",
     "text": [
      "9 2.3428421020507812\n"
     ]
    },
    {
     "name": "stderr",
     "output_type": "stream",
     "text": [
      "\n",
      "  8%|██████▊                                                                          | 10/120 [00:22<04:13,  2.31s/it]\u001b[A"
     ]
    },
    {
     "name": "stdout",
     "output_type": "stream",
     "text": [
      "10 2.307767152786255\n"
     ]
    },
    {
     "name": "stderr",
     "output_type": "stream",
     "text": [
      "\n",
      "  9%|███████▍                                                                         | 11/120 [00:25<04:07,  2.27s/it]\u001b[A"
     ]
    },
    {
     "name": "stdout",
     "output_type": "stream",
     "text": [
      "11 2.1790285110473633\n"
     ]
    },
    {
     "name": "stderr",
     "output_type": "stream",
     "text": [
      "\n",
      " 10%|████████                                                                         | 12/120 [00:27<04:02,  2.24s/it]\u001b[A"
     ]
    },
    {
     "name": "stdout",
     "output_type": "stream",
     "text": [
      "12 2.1832640171051025\n"
     ]
    },
    {
     "name": "stderr",
     "output_type": "stream",
     "text": [
      "\n",
      " 11%|████████▊                                                                        | 13/120 [00:29<03:58,  2.23s/it]\u001b[A"
     ]
    },
    {
     "name": "stdout",
     "output_type": "stream",
     "text": [
      "13 2.2025070190429688\n"
     ]
    },
    {
     "name": "stderr",
     "output_type": "stream",
     "text": [
      "\n",
      " 12%|█████████▍                                                                       | 14/120 [00:31<03:56,  2.23s/it]\u001b[A"
     ]
    },
    {
     "name": "stdout",
     "output_type": "stream",
     "text": [
      "14 2.218357563018799\n"
     ]
    },
    {
     "name": "stderr",
     "output_type": "stream",
     "text": [
      "\n",
      " 12%|██████████▏                                                                      | 15/120 [00:33<03:53,  2.22s/it]\u001b[A"
     ]
    },
    {
     "name": "stdout",
     "output_type": "stream",
     "text": [
      "15 2.2059338092803955\n"
     ]
    },
    {
     "name": "stderr",
     "output_type": "stream",
     "text": [
      "\n",
      " 13%|██████████▊                                                                      | 16/120 [00:36<03:51,  2.23s/it]\u001b[A"
     ]
    },
    {
     "name": "stdout",
     "output_type": "stream",
     "text": [
      "16 2.2512643337249756\n"
     ]
    },
    {
     "name": "stderr",
     "output_type": "stream",
     "text": [
      "\n",
      " 14%|███████████▍                                                                     | 17/120 [00:38<03:48,  2.22s/it]\u001b[A"
     ]
    },
    {
     "name": "stdout",
     "output_type": "stream",
     "text": [
      "17 2.2000534534454346\n"
     ]
    },
    {
     "name": "stderr",
     "output_type": "stream",
     "text": [
      "\n",
      " 15%|████████████▏                                                                    | 18/120 [00:40<03:48,  2.24s/it]\u001b[A"
     ]
    },
    {
     "name": "stdout",
     "output_type": "stream",
     "text": [
      "18 2.2925400733947754\n"
     ]
    },
    {
     "name": "stderr",
     "output_type": "stream",
     "text": [
      "\n",
      " 16%|████████████▊                                                                    | 19/120 [00:43<03:49,  2.27s/it]\u001b[A"
     ]
    },
    {
     "name": "stdout",
     "output_type": "stream",
     "text": [
      "19 2.3279755115509033\n"
     ]
    },
    {
     "name": "stderr",
     "output_type": "stream",
     "text": [
      "\n",
      " 17%|█████████████▌                                                                   | 20/120 [00:45<03:48,  2.28s/it]\u001b[A"
     ]
    },
    {
     "name": "stdout",
     "output_type": "stream",
     "text": [
      "20 2.3253183364868164\n"
     ]
    },
    {
     "name": "stderr",
     "output_type": "stream",
     "text": [
      "\n",
      " 18%|██████████████▏                                                                  | 21/120 [00:47<03:48,  2.30s/it]\u001b[A"
     ]
    },
    {
     "name": "stdout",
     "output_type": "stream",
     "text": [
      "21 2.3465416431427\n"
     ]
    },
    {
     "name": "stderr",
     "output_type": "stream",
     "text": [
      "\n",
      " 18%|██████████████▊                                                                  | 22/120 [00:50<03:46,  2.31s/it]\u001b[A"
     ]
    },
    {
     "name": "stdout",
     "output_type": "stream",
     "text": [
      "22 2.3315212726593018\n"
     ]
    },
    {
     "name": "stderr",
     "output_type": "stream",
     "text": [
      "\n",
      " 19%|███████████████▌                                                                 | 23/120 [00:52<03:43,  2.30s/it]\u001b[A"
     ]
    },
    {
     "name": "stdout",
     "output_type": "stream",
     "text": [
      "23 2.28257417678833\n"
     ]
    },
    {
     "name": "stderr",
     "output_type": "stream",
     "text": [
      "\n",
      " 20%|████████████████▏                                                                | 24/120 [00:54<03:41,  2.30s/it]\u001b[A"
     ]
    },
    {
     "name": "stdout",
     "output_type": "stream",
     "text": [
      "24 2.3025307655334473\n"
     ]
    },
    {
     "name": "stderr",
     "output_type": "stream",
     "text": [
      "\n",
      " 21%|████████████████▉                                                                | 25/120 [00:56<03:36,  2.27s/it]\u001b[A"
     ]
    },
    {
     "name": "stdout",
     "output_type": "stream",
     "text": [
      "25 2.2073047161102295\n"
     ]
    },
    {
     "name": "stderr",
     "output_type": "stream",
     "text": [
      "\n",
      " 22%|█████████████████▌                                                               | 26/120 [00:59<03:35,  2.29s/it]\u001b[A"
     ]
    },
    {
     "name": "stdout",
     "output_type": "stream",
     "text": [
      "26 2.3255465030670166\n"
     ]
    },
    {
     "name": "stderr",
     "output_type": "stream",
     "text": [
      "\n",
      " 22%|██████████████████▏                                                              | 27/120 [01:01<03:30,  2.26s/it]\u001b[A"
     ]
    },
    {
     "name": "stdout",
     "output_type": "stream",
     "text": [
      "27 2.184345245361328\n"
     ]
    },
    {
     "name": "stderr",
     "output_type": "stream",
     "text": [
      "\n",
      " 23%|██████████████████▉                                                              | 28/120 [01:03<03:25,  2.24s/it]\u001b[A"
     ]
    },
    {
     "name": "stdout",
     "output_type": "stream",
     "text": [
      "28 2.1876137256622314\n"
     ]
    },
    {
     "name": "stderr",
     "output_type": "stream",
     "text": [
      "\n",
      " 24%|███████████████████▌                                                             | 29/120 [01:05<03:26,  2.27s/it]\u001b[A"
     ]
    },
    {
     "name": "stdout",
     "output_type": "stream",
     "text": [
      "29 2.356316089630127\n"
     ]
    },
    {
     "name": "stderr",
     "output_type": "stream",
     "text": [
      "\n",
      " 25%|████████████████████▎                                                            | 30/120 [01:08<03:26,  2.30s/it]\u001b[A"
     ]
    },
    {
     "name": "stdout",
     "output_type": "stream",
     "text": [
      "30 2.362546920776367\n"
     ]
    },
    {
     "name": "stderr",
     "output_type": "stream",
     "text": [
      "\n",
      " 26%|████████████████████▉                                                            | 31/120 [01:10<03:23,  2.29s/it]\u001b[A"
     ]
    },
    {
     "name": "stdout",
     "output_type": "stream",
     "text": [
      "31 2.257140636444092\n"
     ]
    },
    {
     "name": "stderr",
     "output_type": "stream",
     "text": [
      "\n",
      " 27%|█████████████████████▌                                                           | 32/120 [01:12<03:19,  2.26s/it]\u001b[A"
     ]
    },
    {
     "name": "stdout",
     "output_type": "stream",
     "text": [
      "32 2.200408697128296\n"
     ]
    },
    {
     "name": "stderr",
     "output_type": "stream",
     "text": [
      "\n",
      " 28%|██████████████████████▎                                                          | 33/120 [01:14<03:14,  2.24s/it]\u001b[A"
     ]
    },
    {
     "name": "stdout",
     "output_type": "stream",
     "text": [
      "33 2.184603452682495\n"
     ]
    },
    {
     "name": "stderr",
     "output_type": "stream",
     "text": [
      "\n",
      " 28%|██████████████████████▉                                                          | 34/120 [01:17<03:10,  2.22s/it]\u001b[A"
     ]
    },
    {
     "name": "stdout",
     "output_type": "stream",
     "text": [
      "34 2.1767730712890625\n"
     ]
    },
    {
     "name": "stderr",
     "output_type": "stream",
     "text": [
      "\n",
      " 29%|███████████████████████▋                                                         | 35/120 [01:19<03:07,  2.21s/it]\u001b[A"
     ]
    },
    {
     "name": "stdout",
     "output_type": "stream",
     "text": [
      "35 2.1759438514709473\n"
     ]
    },
    {
     "name": "stderr",
     "output_type": "stream",
     "text": [
      "\n",
      " 30%|████████████████████████▎                                                        | 36/120 [01:21<03:04,  2.20s/it]\u001b[A"
     ]
    },
    {
     "name": "stdout",
     "output_type": "stream",
     "text": [
      "36 2.1759700775146484\n"
     ]
    },
    {
     "name": "stderr",
     "output_type": "stream",
     "text": [
      "\n",
      " 31%|████████████████████████▉                                                        | 37/120 [01:23<03:02,  2.19s/it]\u001b[A"
     ]
    },
    {
     "name": "stdout",
     "output_type": "stream",
     "text": [
      "37 2.182269334793091\n"
     ]
    },
    {
     "name": "stderr",
     "output_type": "stream",
     "text": [
      "\n",
      " 32%|█████████████████████████▋                                                       | 38/120 [01:25<02:59,  2.19s/it]\u001b[A"
     ]
    },
    {
     "name": "stdout",
     "output_type": "stream",
     "text": [
      "38 2.1803815364837646\n"
     ]
    },
    {
     "name": "stderr",
     "output_type": "stream",
     "text": [
      "\n",
      " 32%|██████████████████████████▎                                                      | 39/120 [01:27<02:57,  2.19s/it]\u001b[A"
     ]
    },
    {
     "name": "stdout",
     "output_type": "stream",
     "text": [
      "39 2.178501844406128\n"
     ]
    },
    {
     "name": "stderr",
     "output_type": "stream",
     "text": [
      "\n",
      " 33%|███████████████████████████                                                      | 40/120 [01:30<02:54,  2.18s/it]\u001b[A"
     ]
    },
    {
     "name": "stdout",
     "output_type": "stream",
     "text": [
      "40 2.176513671875\n"
     ]
    },
    {
     "name": "stderr",
     "output_type": "stream",
     "text": [
      "\n",
      " 34%|███████████████████████████▋                                                     | 41/120 [01:32<02:54,  2.21s/it]\u001b[A"
     ]
    },
    {
     "name": "stdout",
     "output_type": "stream",
     "text": [
      "41 2.289529323577881\n"
     ]
    },
    {
     "name": "stderr",
     "output_type": "stream",
     "text": [
      "\n",
      " 35%|████████████████████████████▎                                                    | 42/120 [01:34<02:52,  2.21s/it]\u001b[A"
     ]
    },
    {
     "name": "stdout",
     "output_type": "stream",
     "text": [
      "42 2.210277557373047\n"
     ]
    },
    {
     "name": "stderr",
     "output_type": "stream",
     "text": [
      "\n",
      " 36%|█████████████████████████████                                                    | 43/120 [01:36<02:50,  2.21s/it]\u001b[A"
     ]
    },
    {
     "name": "stdout",
     "output_type": "stream",
     "text": [
      "43 2.217834234237671\n"
     ]
    },
    {
     "name": "stderr",
     "output_type": "stream",
     "text": [
      "\n",
      " 37%|█████████████████████████████▋                                                   | 44/120 [01:39<02:50,  2.24s/it]\u001b[A"
     ]
    },
    {
     "name": "stdout",
     "output_type": "stream",
     "text": [
      "44 2.3065192699432373\n"
     ]
    },
    {
     "name": "stderr",
     "output_type": "stream",
     "text": [
      "\n",
      " 38%|██████████████████████████████▍                                                  | 45/120 [01:41<02:49,  2.26s/it]\u001b[A"
     ]
    },
    {
     "name": "stdout",
     "output_type": "stream",
     "text": [
      "45 2.316521167755127\n"
     ]
    },
    {
     "name": "stderr",
     "output_type": "stream",
     "text": [
      "\n",
      " 38%|███████████████████████████████                                                  | 46/120 [01:43<02:46,  2.25s/it]\u001b[A"
     ]
    },
    {
     "name": "stdout",
     "output_type": "stream",
     "text": [
      "46 2.1987740993499756\n"
     ]
    },
    {
     "name": "stderr",
     "output_type": "stream",
     "text": [
      "\n",
      " 39%|███████████████████████████████▋                                                 | 47/120 [01:45<02:42,  2.23s/it]\u001b[A"
     ]
    },
    {
     "name": "stdout",
     "output_type": "stream",
     "text": [
      "47 2.1894924640655518\n"
     ]
    },
    {
     "name": "stderr",
     "output_type": "stream",
     "text": [
      "\n",
      " 40%|████████████████████████████████▍                                                | 48/120 [01:48<02:39,  2.22s/it]\u001b[A"
     ]
    },
    {
     "name": "stdout",
     "output_type": "stream",
     "text": [
      "48 2.187246084213257\n"
     ]
    },
    {
     "name": "stderr",
     "output_type": "stream",
     "text": [
      "\n",
      " 41%|█████████████████████████████████                                                | 49/120 [01:50<02:36,  2.21s/it]\u001b[A"
     ]
    },
    {
     "name": "stdout",
     "output_type": "stream",
     "text": [
      "49 2.184530258178711\n"
     ]
    },
    {
     "name": "stderr",
     "output_type": "stream",
     "text": [
      "\n",
      " 42%|█████████████████████████████████▊                                               | 50/120 [01:52<02:34,  2.20s/it]\u001b[A"
     ]
    },
    {
     "name": "stdout",
     "output_type": "stream",
     "text": [
      "50 2.201012134552002\n"
     ]
    },
    {
     "name": "stderr",
     "output_type": "stream",
     "text": [
      "\n",
      " 42%|██████████████████████████████████▍                                              | 51/120 [01:54<02:31,  2.20s/it]\u001b[A"
     ]
    },
    {
     "name": "stdout",
     "output_type": "stream",
     "text": [
      "51 2.1765294075012207\n"
     ]
    },
    {
     "name": "stderr",
     "output_type": "stream",
     "text": [
      "\n",
      " 43%|███████████████████████████████████                                              | 52/120 [01:56<02:29,  2.19s/it]\u001b[A"
     ]
    },
    {
     "name": "stdout",
     "output_type": "stream",
     "text": [
      "52 2.180967330932617\n"
     ]
    },
    {
     "name": "stderr",
     "output_type": "stream",
     "text": [
      "\n",
      " 44%|███████████████████████████████████▊                                             | 53/120 [01:59<02:27,  2.20s/it]\u001b[A"
     ]
    },
    {
     "name": "stdout",
     "output_type": "stream",
     "text": [
      "53 2.228501319885254\n"
     ]
    },
    {
     "name": "stderr",
     "output_type": "stream",
     "text": [
      "\n",
      " 45%|████████████████████████████████████▍                                            | 54/120 [02:01<02:24,  2.19s/it]\u001b[A"
     ]
    },
    {
     "name": "stdout",
     "output_type": "stream",
     "text": [
      "54 2.176783800125122\n"
     ]
    },
    {
     "name": "stderr",
     "output_type": "stream",
     "text": [
      "\n",
      " 46%|█████████████████████████████████████▏                                           | 55/120 [02:03<02:22,  2.19s/it]\u001b[A"
     ]
    },
    {
     "name": "stdout",
     "output_type": "stream",
     "text": [
      "55 2.1674795150756836\n"
     ]
    },
    {
     "name": "stderr",
     "output_type": "stream",
     "text": [
      "\n",
      " 47%|█████████████████████████████████████▊                                           | 56/120 [02:05<02:19,  2.18s/it]\u001b[A"
     ]
    },
    {
     "name": "stdout",
     "output_type": "stream",
     "text": [
      "56 2.1657886505126953\n"
     ]
    },
    {
     "name": "stderr",
     "output_type": "stream",
     "text": [
      "\n",
      " 48%|██████████████████████████████████████▍                                          | 57/120 [02:07<02:17,  2.18s/it]\u001b[A"
     ]
    },
    {
     "name": "stdout",
     "output_type": "stream",
     "text": [
      "57 2.1827175617218018\n"
     ]
    },
    {
     "name": "stderr",
     "output_type": "stream",
     "text": [
      "\n",
      " 48%|███████████████████████████████████████▏                                         | 58/120 [02:09<02:15,  2.18s/it]\u001b[A"
     ]
    },
    {
     "name": "stdout",
     "output_type": "stream",
     "text": [
      "58 2.1728711128234863\n"
     ]
    },
    {
     "name": "stderr",
     "output_type": "stream",
     "text": [
      "\n",
      " 49%|███████████████████████████████████████▊                                         | 59/120 [02:12<02:13,  2.18s/it]\u001b[A"
     ]
    },
    {
     "name": "stdout",
     "output_type": "stream",
     "text": [
      "59 2.184560775756836\n"
     ]
    },
    {
     "name": "stderr",
     "output_type": "stream",
     "text": [
      "\n",
      " 50%|████████████████████████████████████████▌                                        | 60/120 [02:14<02:10,  2.18s/it]\u001b[A"
     ]
    },
    {
     "name": "stdout",
     "output_type": "stream",
     "text": [
      "60 2.187504768371582\n"
     ]
    },
    {
     "name": "stderr",
     "output_type": "stream",
     "text": [
      "\n",
      " 51%|█████████████████████████████████████████▏                                       | 61/120 [02:16<02:08,  2.19s/it]\u001b[A"
     ]
    },
    {
     "name": "stdout",
     "output_type": "stream",
     "text": [
      "61 2.1905925273895264\n"
     ]
    },
    {
     "name": "stderr",
     "output_type": "stream",
     "text": [
      "\n",
      " 52%|█████████████████████████████████████████▊                                       | 62/120 [02:18<02:06,  2.19s/it]\u001b[A"
     ]
    },
    {
     "name": "stdout",
     "output_type": "stream",
     "text": [
      "62 2.184948682785034\n"
     ]
    },
    {
     "name": "stderr",
     "output_type": "stream",
     "text": [
      "\n",
      " 52%|██████████████████████████████████████████▌                                      | 63/120 [02:20<02:04,  2.19s/it]\u001b[A"
     ]
    },
    {
     "name": "stdout",
     "output_type": "stream",
     "text": [
      "63 2.189568042755127\n"
     ]
    },
    {
     "name": "stderr",
     "output_type": "stream",
     "text": [
      "\n",
      " 53%|███████████████████████████████████████████▏                                     | 64/120 [02:23<02:02,  2.19s/it]\u001b[A"
     ]
    },
    {
     "name": "stdout",
     "output_type": "stream",
     "text": [
      "64 2.1889736652374268\n"
     ]
    },
    {
     "name": "stderr",
     "output_type": "stream",
     "text": [
      "\n",
      " 54%|███████████████████████████████████████████▉                                     | 65/120 [02:25<02:00,  2.19s/it]\u001b[A"
     ]
    },
    {
     "name": "stdout",
     "output_type": "stream",
     "text": [
      "65 2.1850438117980957\n"
     ]
    },
    {
     "name": "stderr",
     "output_type": "stream",
     "text": [
      "\n",
      " 55%|████████████████████████████████████████████▌                                    | 66/120 [02:27<01:57,  2.18s/it]\u001b[A"
     ]
    },
    {
     "name": "stdout",
     "output_type": "stream",
     "text": [
      "66 2.17907977104187\n"
     ]
    },
    {
     "name": "stderr",
     "output_type": "stream",
     "text": [
      "\n",
      " 56%|█████████████████████████████████████████████▏                                   | 67/120 [02:29<01:56,  2.19s/it]\u001b[A"
     ]
    },
    {
     "name": "stdout",
     "output_type": "stream",
     "text": [
      "67 2.208963632583618\n"
     ]
    },
    {
     "name": "stderr",
     "output_type": "stream",
     "text": [
      "\n",
      " 57%|█████████████████████████████████████████████▉                                   | 68/120 [02:31<01:54,  2.20s/it]\u001b[A"
     ]
    },
    {
     "name": "stdout",
     "output_type": "stream",
     "text": [
      "68 2.2227137088775635\n"
     ]
    },
    {
     "name": "stderr",
     "output_type": "stream",
     "text": [
      "\n",
      " 57%|██████████████████████████████████████████████▌                                  | 69/120 [02:33<01:51,  2.19s/it]\u001b[A"
     ]
    },
    {
     "name": "stdout",
     "output_type": "stream",
     "text": [
      "69 2.1719202995300293\n"
     ]
    },
    {
     "name": "stderr",
     "output_type": "stream",
     "text": [
      "\n",
      " 58%|███████████████████████████████████████████████▎                                 | 70/120 [02:36<01:49,  2.19s/it]\u001b[A"
     ]
    },
    {
     "name": "stdout",
     "output_type": "stream",
     "text": [
      "70 2.180311441421509\n"
     ]
    },
    {
     "name": "stderr",
     "output_type": "stream",
     "text": [
      "\n",
      " 59%|███████████████████████████████████████████████▉                                 | 71/120 [02:38<01:46,  2.18s/it]\u001b[A"
     ]
    },
    {
     "name": "stdout",
     "output_type": "stream",
     "text": [
      "71 2.170539617538452\n"
     ]
    },
    {
     "name": "stderr",
     "output_type": "stream",
     "text": [
      "\n",
      " 60%|████████████████████████████████████████████████▌                                | 72/120 [02:40<01:44,  2.18s/it]\u001b[A"
     ]
    },
    {
     "name": "stdout",
     "output_type": "stream",
     "text": [
      "72 2.172523260116577\n"
     ]
    },
    {
     "name": "stderr",
     "output_type": "stream",
     "text": [
      "\n",
      " 61%|█████████████████████████████████████████████████▎                               | 73/120 [02:42<01:42,  2.18s/it]\u001b[A"
     ]
    },
    {
     "name": "stdout",
     "output_type": "stream",
     "text": [
      "73 2.1692724227905273\n"
     ]
    },
    {
     "name": "stderr",
     "output_type": "stream",
     "text": [
      "\n",
      " 62%|█████████████████████████████████████████████████▉                               | 74/120 [02:44<01:40,  2.17s/it]\u001b[A"
     ]
    },
    {
     "name": "stdout",
     "output_type": "stream",
     "text": [
      "74 2.1705238819122314\n"
     ]
    },
    {
     "name": "stderr",
     "output_type": "stream",
     "text": [
      "\n",
      " 62%|██████████████████████████████████████████████████▋                              | 75/120 [02:47<01:37,  2.17s/it]\u001b[A"
     ]
    },
    {
     "name": "stdout",
     "output_type": "stream",
     "text": [
      "75 2.1724305152893066\n"
     ]
    },
    {
     "name": "stderr",
     "output_type": "stream",
     "text": [
      "\n",
      " 63%|███████████████████████████████████████████████████▎                             | 76/120 [02:49<01:36,  2.19s/it]\u001b[A"
     ]
    },
    {
     "name": "stdout",
     "output_type": "stream",
     "text": [
      "76 2.2415976524353027\n"
     ]
    },
    {
     "name": "stderr",
     "output_type": "stream",
     "text": [
      "\n",
      " 64%|███████████████████████████████████████████████████▉                             | 77/120 [02:51<01:34,  2.19s/it]\u001b[A"
     ]
    },
    {
     "name": "stdout",
     "output_type": "stream",
     "text": [
      "77 2.1889126300811768\n"
     ]
    },
    {
     "name": "stderr",
     "output_type": "stream",
     "text": [
      "\n",
      " 65%|████████████████████████████████████████████████████▋                            | 78/120 [02:53<01:31,  2.19s/it]\u001b[A"
     ]
    },
    {
     "name": "stdout",
     "output_type": "stream",
     "text": [
      "78 2.182584524154663\n"
     ]
    },
    {
     "name": "stderr",
     "output_type": "stream",
     "text": [
      "\n",
      " 66%|█████████████████████████████████████████████████████▎                           | 79/120 [02:55<01:29,  2.19s/it]\u001b[A"
     ]
    },
    {
     "name": "stdout",
     "output_type": "stream",
     "text": [
      "79 2.1778721809387207\n"
     ]
    },
    {
     "name": "stderr",
     "output_type": "stream",
     "text": [
      "\n",
      " 67%|██████████████████████████████████████████████████████                           | 80/120 [02:58<01:27,  2.19s/it]\u001b[A"
     ]
    },
    {
     "name": "stdout",
     "output_type": "stream",
     "text": [
      "80 2.200597047805786\n"
     ]
    },
    {
     "name": "stderr",
     "output_type": "stream",
     "text": [
      "\n",
      " 68%|██████████████████████████████████████████████████████▋                          | 81/120 [03:00<01:26,  2.22s/it]\u001b[A"
     ]
    },
    {
     "name": "stdout",
     "output_type": "stream",
     "text": [
      "81 2.2815470695495605\n"
     ]
    },
    {
     "name": "stderr",
     "output_type": "stream",
     "text": [
      "\n",
      " 68%|███████████████████████████████████████████████████████▎                         | 82/120 [03:02<01:23,  2.21s/it]\u001b[A"
     ]
    },
    {
     "name": "stdout",
     "output_type": "stream",
     "text": [
      "82 2.1811420917510986\n"
     ]
    },
    {
     "name": "stderr",
     "output_type": "stream",
     "text": [
      "\n",
      " 69%|████████████████████████████████████████████████████████                         | 83/120 [03:04<01:21,  2.20s/it]\u001b[A"
     ]
    },
    {
     "name": "stdout",
     "output_type": "stream",
     "text": [
      "83 2.183505058288574\n"
     ]
    },
    {
     "name": "stderr",
     "output_type": "stream",
     "text": [
      "\n",
      " 70%|████████████████████████████████████████████████████████▋                        | 84/120 [03:06<01:19,  2.20s/it]\u001b[A"
     ]
    },
    {
     "name": "stdout",
     "output_type": "stream",
     "text": [
      "84 2.1858294010162354\n"
     ]
    },
    {
     "name": "stderr",
     "output_type": "stream",
     "text": [
      "\n",
      " 71%|█████████████████████████████████████████████████████████▍                       | 85/120 [03:09<01:17,  2.22s/it]\u001b[A"
     ]
    },
    {
     "name": "stdout",
     "output_type": "stream",
     "text": [
      "85 2.2895264625549316\n"
     ]
    },
    {
     "name": "stderr",
     "output_type": "stream",
     "text": [
      "\n",
      " 72%|██████████████████████████████████████████████████████████                       | 86/120 [03:11<01:15,  2.21s/it]\u001b[A"
     ]
    },
    {
     "name": "stdout",
     "output_type": "stream",
     "text": [
      "86 2.180539131164551\n"
     ]
    },
    {
     "name": "stderr",
     "output_type": "stream",
     "text": [
      "\n",
      " 72%|██████████████████████████████████████████████████████████▋                      | 87/120 [03:13<01:13,  2.21s/it]\u001b[A"
     ]
    },
    {
     "name": "stdout",
     "output_type": "stream",
     "text": [
      "87 2.218522548675537\n"
     ]
    },
    {
     "name": "stderr",
     "output_type": "stream",
     "text": [
      "\n",
      " 73%|███████████████████████████████████████████████████████████▍                     | 88/120 [03:15<01:11,  2.24s/it]\u001b[A"
     ]
    },
    {
     "name": "stdout",
     "output_type": "stream",
     "text": [
      "88 2.297302484512329\n"
     ]
    },
    {
     "name": "stderr",
     "output_type": "stream",
     "text": [
      "\n",
      " 74%|████████████████████████████████████████████████████████████                     | 89/120 [03:18<01:10,  2.28s/it]\u001b[A"
     ]
    },
    {
     "name": "stdout",
     "output_type": "stream",
     "text": [
      "89 2.3705339431762695\n"
     ]
    },
    {
     "name": "stderr",
     "output_type": "stream",
     "text": [
      "\n",
      " 75%|████████████████████████████████████████████████████████████▊                    | 90/120 [03:20<01:08,  2.29s/it]\u001b[A"
     ]
    },
    {
     "name": "stdout",
     "output_type": "stream",
     "text": [
      "90 2.31954288482666\n"
     ]
    },
    {
     "name": "stderr",
     "output_type": "stream",
     "text": [
      "\n",
      " 76%|█████████████████████████████████████████████████████████████▍                   | 91/120 [03:22<01:05,  2.27s/it]\u001b[A"
     ]
    },
    {
     "name": "stdout",
     "output_type": "stream",
     "text": [
      "91 2.2145333290100098\n"
     ]
    },
    {
     "name": "stderr",
     "output_type": "stream",
     "text": [
      "\n",
      " 77%|██████████████████████████████████████████████████████████████                   | 92/120 [03:24<01:03,  2.26s/it]\u001b[A"
     ]
    },
    {
     "name": "stdout",
     "output_type": "stream",
     "text": [
      "92 2.2445058822631836\n"
     ]
    },
    {
     "name": "stderr",
     "output_type": "stream",
     "text": [
      "\n",
      " 78%|██████████████████████████████████████████████████████████████▊                  | 93/120 [03:27<01:01,  2.27s/it]\u001b[A"
     ]
    },
    {
     "name": "stdout",
     "output_type": "stream",
     "text": [
      "93 2.284801959991455\n"
     ]
    },
    {
     "name": "stderr",
     "output_type": "stream",
     "text": [
      "\n",
      " 78%|███████████████████████████████████████████████████████████████▍                 | 94/120 [03:29<00:59,  2.28s/it]\u001b[A"
     ]
    },
    {
     "name": "stdout",
     "output_type": "stream",
     "text": [
      "94 2.3075201511383057\n"
     ]
    },
    {
     "name": "stderr",
     "output_type": "stream",
     "text": [
      "\n",
      " 79%|████████████████████████████████████████████████████████████████▏                | 95/120 [03:31<00:56,  2.26s/it]\u001b[A"
     ]
    },
    {
     "name": "stdout",
     "output_type": "stream",
     "text": [
      "95 2.2112202644348145\n"
     ]
    },
    {
     "name": "stderr",
     "output_type": "stream",
     "text": [
      "\n",
      " 80%|████████████████████████████████████████████████████████████████▊                | 96/120 [03:33<00:53,  2.23s/it]\u001b[A"
     ]
    },
    {
     "name": "stdout",
     "output_type": "stream",
     "text": [
      "96 2.1657848358154297\n"
     ]
    },
    {
     "name": "stderr",
     "output_type": "stream",
     "text": [
      "\n",
      " 81%|█████████████████████████████████████████████████████████████████▍               | 97/120 [03:36<00:50,  2.21s/it]\u001b[A"
     ]
    },
    {
     "name": "stdout",
     "output_type": "stream",
     "text": [
      "97 2.1653149127960205\n"
     ]
    },
    {
     "name": "stderr",
     "output_type": "stream",
     "text": [
      "\n",
      " 82%|██████████████████████████████████████████████████████████████████▏              | 98/120 [03:38<00:48,  2.20s/it]\u001b[A"
     ]
    },
    {
     "name": "stdout",
     "output_type": "stream",
     "text": [
      "98 2.1659183502197266\n"
     ]
    },
    {
     "name": "stderr",
     "output_type": "stream",
     "text": [
      "\n",
      " 82%|██████████████████████████████████████████████████████████████████▊              | 99/120 [03:40<00:45,  2.19s/it]\u001b[A"
     ]
    },
    {
     "name": "stdout",
     "output_type": "stream",
     "text": [
      "99 2.168558359146118\n"
     ]
    },
    {
     "name": "stderr",
     "output_type": "stream",
     "text": [
      "\n",
      " 83%|██████████████████████████████████████████████████████████████████▋             | 100/120 [03:42<00:43,  2.18s/it]\u001b[A"
     ]
    },
    {
     "name": "stdout",
     "output_type": "stream",
     "text": [
      "100 2.16850209236145\n"
     ]
    },
    {
     "name": "stderr",
     "output_type": "stream",
     "text": [
      "\n",
      " 84%|███████████████████████████████████████████████████████████████████▎            | 101/120 [03:44<00:42,  2.21s/it]\u001b[A"
     ]
    },
    {
     "name": "stdout",
     "output_type": "stream",
     "text": [
      "101 2.277513027191162\n"
     ]
    },
    {
     "name": "stderr",
     "output_type": "stream",
     "text": [
      "\n",
      " 85%|████████████████████████████████████████████████████████████████████            | 102/120 [03:47<00:39,  2.20s/it]\u001b[A"
     ]
    },
    {
     "name": "stdout",
     "output_type": "stream",
     "text": [
      "102 2.1707603931427\n"
     ]
    },
    {
     "name": "stderr",
     "output_type": "stream",
     "text": [
      "\n",
      " 86%|████████████████████████████████████████████████████████████████████▋           | 103/120 [03:49<00:37,  2.19s/it]\u001b[A"
     ]
    },
    {
     "name": "stdout",
     "output_type": "stream",
     "text": [
      "103 2.167620897293091\n"
     ]
    },
    {
     "name": "stderr",
     "output_type": "stream",
     "text": [
      "\n",
      " 87%|█████████████████████████████████████████████████████████████████████▎          | 104/120 [03:51<00:34,  2.18s/it]\u001b[A"
     ]
    },
    {
     "name": "stdout",
     "output_type": "stream",
     "text": [
      "104 2.1681900024414062\n"
     ]
    },
    {
     "name": "stderr",
     "output_type": "stream",
     "text": [
      "\n",
      " 88%|██████████████████████████████████████████████████████████████████████          | 105/120 [03:53<00:32,  2.18s/it]\u001b[A"
     ]
    },
    {
     "name": "stdout",
     "output_type": "stream",
     "text": [
      "105 2.169501304626465\n"
     ]
    },
    {
     "name": "stderr",
     "output_type": "stream",
     "text": [
      "\n",
      " 88%|██████████████████████████████████████████████████████████████████████▋         | 106/120 [03:55<00:30,  2.18s/it]\u001b[A"
     ]
    },
    {
     "name": "stdout",
     "output_type": "stream",
     "text": [
      "106 2.1713976860046387\n"
     ]
    },
    {
     "name": "stderr",
     "output_type": "stream",
     "text": [
      "\n",
      " 89%|███████████████████████████████████████████████████████████████████████▎        | 107/120 [03:57<00:28,  2.17s/it]\u001b[A"
     ]
    },
    {
     "name": "stdout",
     "output_type": "stream",
     "text": [
      "107 2.169870138168335\n"
     ]
    },
    {
     "name": "stderr",
     "output_type": "stream",
     "text": [
      "\n",
      " 90%|████████████████████████████████████████████████████████████████████████        | 108/120 [04:00<00:26,  2.17s/it]\u001b[A"
     ]
    },
    {
     "name": "stdout",
     "output_type": "stream",
     "text": [
      "108 2.1688730716705322\n"
     ]
    },
    {
     "name": "stderr",
     "output_type": "stream",
     "text": [
      "\n",
      " 91%|████████████████████████████████████████████████████████████████████████▋       | 109/120 [04:02<00:23,  2.17s/it]\u001b[A"
     ]
    },
    {
     "name": "stdout",
     "output_type": "stream",
     "text": [
      "109 2.1705257892608643\n"
     ]
    },
    {
     "name": "stderr",
     "output_type": "stream",
     "text": [
      "\n",
      " 92%|█████████████████████████████████████████████████████████████████████████▎      | 110/120 [04:04<00:21,  2.17s/it]\u001b[A"
     ]
    },
    {
     "name": "stdout",
     "output_type": "stream",
     "text": [
      "110 2.170525550842285\n"
     ]
    },
    {
     "name": "stderr",
     "output_type": "stream",
     "text": [
      "\n",
      " 92%|██████████████████████████████████████████████████████████████████████████      | 111/120 [04:06<00:19,  2.17s/it]\u001b[A"
     ]
    },
    {
     "name": "stdout",
     "output_type": "stream",
     "text": [
      "111 2.1691126823425293\n"
     ]
    },
    {
     "name": "stderr",
     "output_type": "stream",
     "text": [
      "\n",
      " 93%|██████████████████████████████████████████████████████████████████████████▋     | 112/120 [04:08<00:17,  2.17s/it]\u001b[A"
     ]
    },
    {
     "name": "stdout",
     "output_type": "stream",
     "text": [
      "112 2.1685376167297363\n"
     ]
    },
    {
     "name": "stderr",
     "output_type": "stream",
     "text": [
      "\n",
      " 94%|███████████████████████████████████████████████████████████████████████████▎    | 113/120 [04:10<00:15,  2.17s/it]\u001b[A"
     ]
    },
    {
     "name": "stdout",
     "output_type": "stream",
     "text": [
      "113 2.1709563732147217\n"
     ]
    },
    {
     "name": "stderr",
     "output_type": "stream",
     "text": [
      "\n",
      " 95%|████████████████████████████████████████████████████████████████████████████    | 114/120 [04:13<00:13,  2.17s/it]\u001b[A"
     ]
    },
    {
     "name": "stdout",
     "output_type": "stream",
     "text": [
      "114 2.1678595542907715\n"
     ]
    },
    {
     "name": "stderr",
     "output_type": "stream",
     "text": [
      "\n",
      " 96%|████████████████████████████████████████████████████████████████████████████▋   | 115/120 [04:15<00:10,  2.17s/it]\u001b[A"
     ]
    },
    {
     "name": "stdout",
     "output_type": "stream",
     "text": [
      "115 2.1701416969299316\n"
     ]
    },
    {
     "name": "stderr",
     "output_type": "stream",
     "text": [
      "\n",
      " 97%|█████████████████████████████████████████████████████████████████████████████▎  | 116/120 [04:17<00:08,  2.17s/it]\u001b[A"
     ]
    },
    {
     "name": "stdout",
     "output_type": "stream",
     "text": [
      "116 2.1659996509552\n"
     ]
    },
    {
     "name": "stderr",
     "output_type": "stream",
     "text": [
      "\n",
      " 98%|██████████████████████████████████████████████████████████████████████████████  | 117/120 [04:19<00:06,  2.17s/it]\u001b[A"
     ]
    },
    {
     "name": "stdout",
     "output_type": "stream",
     "text": [
      "117 2.1645631790161133\n"
     ]
    },
    {
     "name": "stderr",
     "output_type": "stream",
     "text": [
      "\n",
      " 98%|██████████████████████████████████████████████████████████████████████████████▋ | 118/120 [04:21<00:04,  2.17s/it]\u001b[A"
     ]
    },
    {
     "name": "stdout",
     "output_type": "stream",
     "text": [
      "118 2.169459104537964\n"
     ]
    },
    {
     "name": "stderr",
     "output_type": "stream",
     "text": [
      "\n",
      " 99%|███████████████████████████████████████████████████████████████████████████████▎| 119/120 [04:23<00:02,  2.17s/it]\u001b[A"
     ]
    },
    {
     "name": "stdout",
     "output_type": "stream",
     "text": [
      "119 2.1662473678588867\n"
     ]
    },
    {
     "name": "stderr",
     "output_type": "stream",
     "text": [
      "\n",
      "100%|████████████████████████████████████████████████████████████████████████████████| 120/120 [04:26<00:00,  2.22s/it]\u001b[A\n"
     ]
    },
    {
     "name": "stdout",
     "output_type": "stream",
     "text": [
      "Done, saving (120, 378, 504, 3) (120, 378, 504)\n"
     ]
    },
    {
     "name": "stderr",
     "output_type": "stream",
     "text": [
      "IMAGEIO FFMPEG_WRITER WARNING: input image is not divisible by macro_block_size=16, resizing from (504, 378) to (512, 384) to ensure video compatibility with most codecs and players. To prevent resizing, make your input image divisible by the macro_block_size or set the macro_block_size to 1 (risking incompatibility).\n",
      "IMAGEIO FFMPEG_WRITER WARNING: input image is not divisible by macro_block_size=16, resizing from (504, 378) to (512, 384) to ensure video compatibility with most codecs and players. To prevent resizing, make your input image divisible by the macro_block_size or set the macro_block_size to 1 (risking incompatibility).\n"
     ]
    },
    {
     "name": "stdout",
     "output_type": "stream",
     "text": [
      "test poses shape torch.Size([3, 3, 4])\n"
     ]
    },
    {
     "name": "stderr",
     "output_type": "stream",
     "text": [
      "\n",
      "  0%|                                                                                            | 0/3 [00:00<?, ?it/s]\u001b[A"
     ]
    },
    {
     "name": "stdout",
     "output_type": "stream",
     "text": [
      "0 0.0020003318786621094\n"
     ]
    },
    {
     "name": "stderr",
     "output_type": "stream",
     "text": [
      "\n",
      " 33%|████████████████████████████                                                        | 1/3 [00:02<00:04,  2.29s/it]\u001b[A"
     ]
    },
    {
     "name": "stdout",
     "output_type": "stream",
     "text": [
      "torch.Size([378, 504, 3]) torch.Size([378, 504])\n",
      "1 2.290595054626465\n"
     ]
    },
    {
     "name": "stderr",
     "output_type": "stream",
     "text": [
      "\n",
      " 67%|████████████████████████████████████████████████████████                            | 2/3 [00:04<00:02,  2.34s/it]\u001b[A"
     ]
    },
    {
     "name": "stdout",
     "output_type": "stream",
     "text": [
      "2 2.3820011615753174\n"
     ]
    },
    {
     "name": "stderr",
     "output_type": "stream",
     "text": [
      "\n",
      "100%|████████████████████████████████████████████████████████████████████████████████████| 3/3 [00:07<00:00,  2.38s/it]\u001b[A\n",
      "100%|██████████████████████████████████████████████████████████████████████████| 100000/100000 [41:17<00:00, 40.36it/s]"
     ]
    },
    {
     "name": "stdout",
     "output_type": "stream",
     "text": [
      "Saved test set\n"
     ]
    },
    {
     "name": "stderr",
     "output_type": "stream",
     "text": [
      "\n"
     ]
    }
   ],
   "source": [
    "start = start + 1\n",
    "for i in trange(start, N_iters):\n",
    "    time0 = time.time()\n",
    "    batch = rays_rgb[i_batch:i_batch+N_rand]\n",
    "    batch = torch.transpose(batch, 0, 1)\n",
    "    batch_rays, target_s = batch[:2], batch[2]\n",
    "    \n",
    "    i_batch += N_rand\n",
    "    if i_batch >= rays_rgb.shape[0]:\n",
    "        print(\"Shuffle data after an epoch!\")\n",
    "        rand_idx = torch.randperm(rays_rgb.shape[0])\n",
    "        rays_rgb = rays_rgb[rand_idx]\n",
    "        i_batch = 0\n",
    "    rgb, disp, acc, dx, extras = render(H, W, K, chunk=args.chunk, rays=batch_rays,\n",
    "                                                verbose=i < 10, retraw=True,\n",
    "                                                **render_kwargs_train)\n",
    "    optimizer.zero_grad()\n",
    "    img_loss = img2mse(rgb, target_s)\n",
    "    loss = img_loss + 1e-5 * torch.linalg.vector_norm(dx)\n",
    "    if 'rgb0' in extras:\n",
    "        img_loss0 = img2mse(extras['rgb0'], target_s)\n",
    "        loss = loss + img_loss0\n",
    "        psnr0 = mse2psnr(img_loss0)\n",
    "    psnr = mse2psnr(img_loss)\n",
    "    loss.backward()\n",
    "    optimizer.step()\n",
    "        \n",
    "    decay_rate = 0.1\n",
    "    decay_steps = args.lrate_decay * 1000\n",
    "    new_lrate = args.lrate * (decay_rate ** (global_step / decay_steps))\n",
    "    for param_group in optimizer.param_groups:\n",
    "        param_group['lr'] = new_lrate\n",
    "        \n",
    "    if i%args.i_print==0:\n",
    "        tqdm.write(f\"[TRAIN] Iter: {i} Loss: {loss.item()}  PSNR: {psnr.item()}\")\n",
    "            \n",
    "    if i%args.i_video==0 and i > 0:\n",
    "        # Turn on testing mode\n",
    "        with torch.no_grad():\n",
    "            rgbs, disps = render_path(render_poses, hwf, K, args.chunk, render_kwargs_test)\n",
    "        print('Done, saving', rgbs.shape, disps.shape)\n",
    "        moviebase = os.path.join(basedir, expname, '{}_spiral_{:06d}_'.format(expname, i))\n",
    "        imageio.mimwrite(moviebase + 'rgb.mp4', to8b(rgbs), fps=30, quality=8)\n",
    "        imageio.mimwrite(moviebase + 'disp.mp4', to8b(disps / np.max(disps)), fps=30, quality=8)\n",
    "\n",
    "            # if args.use_viewdirs:\n",
    "            #     render_kwargs_test['c2w_staticcam'] = render_poses[0][:3,:4]\n",
    "            #     with torch.no_grad():\n",
    "            #         rgbs_still, _ = render_path(render_poses, hwf, args.chunk, render_kwargs_test)\n",
    "            #     render_kwargs_test['c2w_staticcam'] = None\n",
    "            #     imageio.mimwrite(moviebase + 'rgb_still.mp4', to8b(rgbs_still), fps=30, quality=8)\n",
    "\n",
    "    if i%args.i_testset==0 and i > 0:\n",
    "        testsavedir = os.path.join(basedir, expname, 'testset_{:06d}'.format(i))\n",
    "        os.makedirs(testsavedir, exist_ok=True)\n",
    "        print('test poses shape', poses[i_test].shape)\n",
    "        with torch.no_grad():\n",
    "            render_path(torch.Tensor(poses[i_test]).to(device), hwf, K, args.chunk, render_kwargs_test, gt_imgs=images[i_test], savedir=testsavedir)\n",
    "        print('Saved test set')"
   ]
  },
  {
   "cell_type": "code",
   "execution_count": null,
   "id": "0ddf9c43-2221-4525-aafe-e9b27f83c734",
   "metadata": {},
   "outputs": [
    {
     "name": "stderr",
     "output_type": "stream",
     "text": [
      "  0%|                                                                                          | 0/120 [00:00<?, ?it/s]"
     ]
    },
    {
     "name": "stdout",
     "output_type": "stream",
     "text": [
      "0 0.0010001659393310547\n"
     ]
    },
    {
     "name": "stderr",
     "output_type": "stream",
     "text": [
      "  1%|▋                                                                                 | 1/120 [00:02<04:28,  2.26s/it]"
     ]
    },
    {
     "name": "stdout",
     "output_type": "stream",
     "text": [
      "torch.Size([378, 504, 3]) torch.Size([378, 504])\n",
      "1 2.2570340633392334\n"
     ]
    },
    {
     "name": "stderr",
     "output_type": "stream",
     "text": [
      "  2%|█▎                                                                                | 2/120 [00:04<04:33,  2.32s/it]"
     ]
    },
    {
     "name": "stdout",
     "output_type": "stream",
     "text": [
      "2 2.356858730316162\n"
     ]
    },
    {
     "name": "stderr",
     "output_type": "stream",
     "text": [
      "  2%|██                                                                                | 3/120 [00:06<04:31,  2.32s/it]"
     ]
    },
    {
     "name": "stdout",
     "output_type": "stream",
     "text": [
      "3 2.3363702297210693\n"
     ]
    },
    {
     "name": "stderr",
     "output_type": "stream",
     "text": [
      "  3%|██▋                                                                               | 4/120 [00:09<04:24,  2.28s/it]"
     ]
    },
    {
     "name": "stdout",
     "output_type": "stream",
     "text": [
      "4 2.2219913005828857\n"
     ]
    },
    {
     "name": "stderr",
     "output_type": "stream",
     "text": [
      "  4%|███▍                                                                              | 5/120 [00:11<04:24,  2.30s/it]"
     ]
    },
    {
     "name": "stdout",
     "output_type": "stream",
     "text": [
      "5 2.3359711170196533\n"
     ]
    },
    {
     "name": "stderr",
     "output_type": "stream",
     "text": [
      "  5%|████                                                                              | 6/120 [00:13<04:22,  2.30s/it]"
     ]
    },
    {
     "name": "stdout",
     "output_type": "stream",
     "text": [
      "6 2.3004658222198486\n"
     ]
    },
    {
     "name": "stderr",
     "output_type": "stream",
     "text": [
      "  6%|████▊                                                                             | 7/120 [00:16<04:20,  2.30s/it]"
     ]
    },
    {
     "name": "stdout",
     "output_type": "stream",
     "text": [
      "7 2.301518678665161\n"
     ]
    },
    {
     "name": "stderr",
     "output_type": "stream",
     "text": [
      "  7%|█████▍                                                                            | 8/120 [00:18<04:14,  2.27s/it]"
     ]
    },
    {
     "name": "stdout",
     "output_type": "stream",
     "text": [
      "8 2.1976916790008545\n"
     ]
    },
    {
     "name": "stderr",
     "output_type": "stream",
     "text": [
      "  8%|██████▏                                                                           | 9/120 [00:20<04:09,  2.25s/it]"
     ]
    },
    {
     "name": "stdout",
     "output_type": "stream",
     "text": [
      "9 2.1955056190490723\n"
     ]
    },
    {
     "name": "stderr",
     "output_type": "stream",
     "text": [
      "  8%|██████▊                                                                          | 10/120 [00:22<04:08,  2.26s/it]"
     ]
    },
    {
     "name": "stdout",
     "output_type": "stream",
     "text": [
      "10 2.274843215942383\n"
     ]
    },
    {
     "name": "stderr",
     "output_type": "stream",
     "text": [
      "  9%|███████▍                                                                         | 11/120 [00:25<04:07,  2.28s/it]"
     ]
    },
    {
     "name": "stdout",
     "output_type": "stream",
     "text": [
      "11 2.320413827896118\n"
     ]
    },
    {
     "name": "stderr",
     "output_type": "stream",
     "text": [
      " 10%|████████                                                                         | 12/120 [00:27<04:08,  2.30s/it]"
     ]
    },
    {
     "name": "stdout",
     "output_type": "stream",
     "text": [
      "12 2.349705457687378\n"
     ]
    },
    {
     "name": "stderr",
     "output_type": "stream",
     "text": [
      " 11%|████████▊                                                                        | 13/120 [00:29<04:03,  2.27s/it]"
     ]
    },
    {
     "name": "stdout",
     "output_type": "stream",
     "text": [
      "13 2.2160019874572754\n"
     ]
    },
    {
     "name": "stderr",
     "output_type": "stream",
     "text": [
      " 12%|█████████▍                                                                       | 14/120 [00:31<03:58,  2.25s/it]"
     ]
    },
    {
     "name": "stdout",
     "output_type": "stream",
     "text": [
      "14 2.1816306114196777\n"
     ]
    },
    {
     "name": "stderr",
     "output_type": "stream",
     "text": [
      " 12%|██████████▏                                                                      | 15/120 [00:34<03:54,  2.23s/it]"
     ]
    },
    {
     "name": "stdout",
     "output_type": "stream",
     "text": [
      "15 2.2065205574035645\n"
     ]
    },
    {
     "name": "stderr",
     "output_type": "stream",
     "text": [
      " 13%|██████████▊                                                                      | 16/120 [00:36<03:50,  2.22s/it]"
     ]
    },
    {
     "name": "stdout",
     "output_type": "stream",
     "text": [
      "16 2.173208475112915\n"
     ]
    },
    {
     "name": "stderr",
     "output_type": "stream",
     "text": [
      " 14%|███████████▍                                                                     | 17/120 [00:38<03:46,  2.20s/it]"
     ]
    },
    {
     "name": "stdout",
     "output_type": "stream",
     "text": [
      "17 2.174501895904541\n"
     ]
    },
    {
     "name": "stderr",
     "output_type": "stream",
     "text": [
      " 15%|████████████▏                                                                    | 18/120 [00:40<03:44,  2.20s/it]"
     ]
    },
    {
     "name": "stdout",
     "output_type": "stream",
     "text": [
      "18 2.1830945014953613\n"
     ]
    },
    {
     "name": "stderr",
     "output_type": "stream",
     "text": [
      " 16%|████████████▊                                                                    | 19/120 [00:42<03:44,  2.22s/it]"
     ]
    },
    {
     "name": "stdout",
     "output_type": "stream",
     "text": [
      "19 2.274238348007202\n"
     ]
    },
    {
     "name": "stderr",
     "output_type": "stream",
     "text": [
      " 17%|█████████████▌                                                                   | 20/120 [00:45<03:46,  2.26s/it]"
     ]
    },
    {
     "name": "stdout",
     "output_type": "stream",
     "text": [
      "20 2.36787748336792\n"
     ]
    },
    {
     "name": "stderr",
     "output_type": "stream",
     "text": [
      " 18%|██████████████▏                                                                  | 21/120 [00:47<03:47,  2.30s/it]"
     ]
    },
    {
     "name": "stdout",
     "output_type": "stream",
     "text": [
      "21 2.3665359020233154\n"
     ]
    },
    {
     "name": "stderr",
     "output_type": "stream",
     "text": [
      " 18%|██████████████▊                                                                  | 22/120 [00:49<03:45,  2.30s/it]"
     ]
    },
    {
     "name": "stdout",
     "output_type": "stream",
     "text": [
      "22 2.3105173110961914\n"
     ]
    },
    {
     "name": "stderr",
     "output_type": "stream",
     "text": [
      " 19%|███████████████▌                                                                 | 23/120 [00:52<03:40,  2.27s/it]"
     ]
    },
    {
     "name": "stdout",
     "output_type": "stream",
     "text": [
      "23 2.1962571144104004\n"
     ]
    },
    {
     "name": "stderr",
     "output_type": "stream",
     "text": [
      " 20%|████████████████▏                                                                | 24/120 [00:54<03:36,  2.26s/it]"
     ]
    },
    {
     "name": "stdout",
     "output_type": "stream",
     "text": [
      "24 2.240504741668701\n"
     ]
    },
    {
     "name": "stderr",
     "output_type": "stream",
     "text": [
      " 21%|████████████████▉                                                                | 25/120 [00:56<03:32,  2.24s/it]"
     ]
    },
    {
     "name": "stdout",
     "output_type": "stream",
     "text": [
      "25 2.184492349624634\n"
     ]
    },
    {
     "name": "stderr",
     "output_type": "stream",
     "text": [
      " 22%|█████████████████▌                                                               | 26/120 [00:58<03:28,  2.22s/it]"
     ]
    },
    {
     "name": "stdout",
     "output_type": "stream",
     "text": [
      "26 2.1655073165893555\n"
     ]
    },
    {
     "name": "stderr",
     "output_type": "stream",
     "text": [
      " 22%|██████████████████▏                                                              | 27/120 [01:00<03:24,  2.20s/it]"
     ]
    },
    {
     "name": "stdout",
     "output_type": "stream",
     "text": [
      "27 2.1709699630737305\n"
     ]
    },
    {
     "name": "stderr",
     "output_type": "stream",
     "text": [
      " 23%|██████████████████▉                                                              | 28/120 [01:03<03:23,  2.21s/it]"
     ]
    },
    {
     "name": "stdout",
     "output_type": "stream",
     "text": [
      "28 2.2361321449279785\n"
     ]
    },
    {
     "name": "stderr",
     "output_type": "stream",
     "text": [
      " 24%|███████████████████▌                                                             | 29/120 [01:05<03:20,  2.20s/it]"
     ]
    },
    {
     "name": "stdout",
     "output_type": "stream",
     "text": [
      "29 2.1715385913848877\n"
     ]
    },
    {
     "name": "stderr",
     "output_type": "stream",
     "text": [
      " 25%|████████████████████▎                                                            | 30/120 [01:07<03:17,  2.19s/it]"
     ]
    },
    {
     "name": "stdout",
     "output_type": "stream",
     "text": [
      "30 2.177607536315918\n"
     ]
    },
    {
     "name": "stderr",
     "output_type": "stream",
     "text": [
      " 26%|████████████████████▉                                                            | 31/120 [01:09<03:18,  2.23s/it]"
     ]
    },
    {
     "name": "stdout",
     "output_type": "stream",
     "text": [
      "31 2.301518201828003\n"
     ]
    }
   ],
   "source": [
    "with torch.no_grad():\n",
    "    rgbs, disps = render_path(render_poses, hwf, K, args.chunk, render_kwargs_test)\n",
    "    print('Done, saving', rgbs.shape, disps.shape)\n",
    "    moviebase = os.path.join(basedir, expname, '{}_spiral_{:06d}_'.format(expname, i))\n",
    "    imageio.mimwrite(moviebase + 'rgb.mp4', to8b(rgbs), fps=30, quality=8)\n",
    "    imageio.mimwrite(moviebase + 'disp.mp4', to8b(disps / np.max(disps)), fps=30, quality=8)"
   ]
  },
  {
   "cell_type": "code",
   "execution_count": null,
   "id": "96b7f537-6e13-453c-bead-69cb05f0af66",
   "metadata": {},
   "outputs": [],
   "source": [
    "testsavedir = os.path.join(basedir, expname, 'testset_{:06d}'.format(i))\n",
    "os.makedirs(testsavedir, exist_ok=True)\n",
    "print('test poses shape', poses[i_test].shape)\n",
    "with torch.no_grad():\n",
    "    render_path(torch.Tensor(poses[i_test]).to(device), hwf, K, args.chunk, render_kwargs_test, gt_imgs=images[i_test], savedir=testsavedir)"
   ]
  },
  {
   "cell_type": "markdown",
   "id": "6bb82670-90cb-4d8b-800d-65abde3eeb55",
   "metadata": {},
   "source": [
    "## Various Tests"
   ]
  },
  {
   "cell_type": "code",
   "execution_count": null,
   "id": "786b648a-a76b-468b-93d9-0d7063f7f213",
   "metadata": {},
   "outputs": [],
   "source": [
    "import commentjson as json\n",
    "import tinycudann as tcnn"
   ]
  },
  {
   "cell_type": "code",
   "execution_count": null,
   "id": "38dbfc5c-27a3-4445-8896-cf74df52a371",
   "metadata": {},
   "outputs": [],
   "source": [
    "batch = rays_rgb[i_batch:i_batch+N_rand]"
   ]
  },
  {
   "cell_type": "code",
   "execution_count": null,
   "id": "b9ec5bf9-bd88-41b2-aa7e-8bac6cd1c2d3",
   "metadata": {},
   "outputs": [],
   "source": [
    "batch = torch.transpose(batch, 0, 1)"
   ]
  },
  {
   "cell_type": "code",
   "execution_count": null,
   "id": "36ca62fd-4195-4462-970f-ae9b409b8230",
   "metadata": {},
   "outputs": [],
   "source": [
    "batch.shape"
   ]
  },
  {
   "cell_type": "code",
   "execution_count": null,
   "id": "a3aeb227-8787-4ba3-9fb1-f749fb1de68c",
   "metadata": {},
   "outputs": [],
   "source": [
    "batch_rays, target_s = batch[:2], batch[2]"
   ]
  },
  {
   "cell_type": "code",
   "execution_count": null,
   "id": "e273ca96-dae6-41d8-8625-a84b5b6aaa8f",
   "metadata": {},
   "outputs": [],
   "source": [
    "i_batch += N_rand"
   ]
  },
  {
   "cell_type": "code",
   "execution_count": null,
   "id": "1fed3c16-ad84-4e08-af6a-fd8328bfd4fb",
   "metadata": {},
   "outputs": [],
   "source": [
    "batch_rays.shape"
   ]
  },
  {
   "cell_type": "code",
   "execution_count": null,
   "id": "5975b904-c342-4cc4-963f-0c0e4a3678b2",
   "metadata": {},
   "outputs": [],
   "source": [
    "chunk=args.chunk\n",
    "rays=batch_rays\n",
    "verbose=True\n",
    "retraw=True"
   ]
  },
  {
   "cell_type": "code",
   "execution_count": null,
   "id": "bd6eb6f1-ab29-46d1-a13a-d7b032631bcc",
   "metadata": {},
   "outputs": [],
   "source": [
    "rays_o, rays_d = rays"
   ]
  },
  {
   "cell_type": "code",
   "execution_count": null,
   "id": "6dace8bd-c16e-4a2e-8bde-ad198b570ba4",
   "metadata": {},
   "outputs": [],
   "source": [
    "sh = rays_d.shape"
   ]
  },
  {
   "cell_type": "code",
   "execution_count": null,
   "id": "7a1c129d-e0c7-4208-9e00-c7198eca9169",
   "metadata": {},
   "outputs": [],
   "source": [
    "sh"
   ]
  },
  {
   "cell_type": "code",
   "execution_count": null,
   "id": "864ed0c3-ff8b-4938-a0de-35fb74513e09",
   "metadata": {},
   "outputs": [],
   "source": [
    "rays_o, rays_d = ndc_rays(H, W, K[0][0], 1., rays_o, rays_d)"
   ]
  },
  {
   "cell_type": "code",
   "execution_count": null,
   "id": "63b65eed-991a-4b00-a386-7ad3685908fa",
   "metadata": {},
   "outputs": [],
   "source": [
    "rays_o = torch.reshape(rays_o, [-1,3]).float()\n",
    "rays_d = torch.reshape(rays_d, [-1,3]).float()"
   ]
  },
  {
   "cell_type": "code",
   "execution_count": null,
   "id": "be58e98f-fc35-44ee-af8b-48ba52c5547b",
   "metadata": {},
   "outputs": [],
   "source": [
    "rays_o.shape"
   ]
  },
  {
   "cell_type": "code",
   "execution_count": null,
   "id": "8ba26cf8-3d00-4665-af90-df8ecf851057",
   "metadata": {},
   "outputs": [],
   "source": [
    "near, far = near * torch.ones_like(rays_d[...,:1]), far * torch.ones_like(rays_d[...,:1])"
   ]
  },
  {
   "cell_type": "code",
   "execution_count": null,
   "id": "111caea9-6ad7-4822-9eab-a9425e14eee0",
   "metadata": {},
   "outputs": [],
   "source": [
    "rays = torch.cat([rays_o, rays_d, near, far], -1)"
   ]
  },
  {
   "cell_type": "code",
   "execution_count": null,
   "id": "c236566b-291f-4646-83fd-b4146cb01d9a",
   "metadata": {},
   "outputs": [],
   "source": [
    "ray_batch = rays"
   ]
  },
  {
   "cell_type": "code",
   "execution_count": null,
   "id": "cbd6b9d7-05b1-495e-b8ed-46bb070b8397",
   "metadata": {},
   "outputs": [],
   "source": [
    "rays[:,-3:].shaperays_o, rays_d = ray_batch[:,0:3], ray_batch[:,3:6]"
   ]
  },
  {
   "cell_type": "code",
   "execution_count": null,
   "id": "8b3aaac8-b8d9-4ea8-9ae4-7318a5acd62f",
   "metadata": {},
   "outputs": [],
   "source": [
    "ray_batch[:,3:6]-rays_d"
   ]
  },
  {
   "cell_type": "code",
   "execution_count": null,
   "id": "a44f67eb-b084-4471-b047-af6693c3671b",
   "metadata": {},
   "outputs": [],
   "source": [
    "bounds = torch.reshape(ray_batch[...,6:8], [-1,1,2])"
   ]
  },
  {
   "cell_type": "code",
   "execution_count": null,
   "id": "21f01124-359a-4043-b00a-6d54e21750ab",
   "metadata": {},
   "outputs": [],
   "source": [
    "bounds.shape"
   ]
  },
  {
   "cell_type": "code",
   "execution_count": null,
   "id": "a631a05c-9084-4e9b-afe0-d91ce89a0b02",
   "metadata": {},
   "outputs": [],
   "source": [
    "args.use_viewdirs"
   ]
  },
  {
   "cell_type": "code",
   "execution_count": null,
   "id": "fec16fdf-1fb1-493c-a076-2146806c89bd",
   "metadata": {},
   "outputs": [],
   "source": [
    "viewdirs = rays_d"
   ]
  },
  {
   "cell_type": "code",
   "execution_count": null,
   "id": "a9244f80-9496-48f0-9592-b8d0dc14b503",
   "metadata": {},
   "outputs": [],
   "source": [
    "viewdirs = viewdirs / torch.norm(viewdirs, dim=-1, keepdim=True)"
   ]
  },
  {
   "cell_type": "code",
   "execution_count": null,
   "id": "75f905e9-34e4-4d6f-9567-d3606d36268a",
   "metadata": {},
   "outputs": [],
   "source": [
    "viewdirs = torch.reshape(viewdirs, [-1,3]).float()"
   ]
  },
  {
   "cell_type": "code",
   "execution_count": null,
   "id": "1409c7bf-1a37-4603-9e16-cc80bbd0aa2e",
   "metadata": {},
   "outputs": [],
   "source": [
    "viewdirs"
   ]
  },
  {
   "cell_type": "code",
   "execution_count": null,
   "id": "5eb78600-d91d-4567-81b9-ff1debfdb38c",
   "metadata": {},
   "outputs": [],
   "source": [
    "rays_d"
   ]
  },
  {
   "cell_type": "code",
   "execution_count": null,
   "id": "4ed248d8-b8ff-476c-b984-f4a23af89945",
   "metadata": {},
   "outputs": [],
   "source": [
    "model = NeRF()"
   ]
  },
  {
   "cell_type": "code",
   "execution_count": null,
   "id": "0f894195-7a6e-4cd3-a102-f9b5b39f4c74",
   "metadata": {},
   "outputs": [],
   "source": [
    "model(rays_o,viewdirs)"
   ]
  },
  {
   "cell_type": "code",
   "execution_count": null,
   "id": "1a33e510-52a2-47e4-8b4d-279a1cf1fb85",
   "metadata": {},
   "outputs": [],
   "source": []
  }
 ],
 "metadata": {
  "kernelspec": {
   "display_name": "Python 3 (ipykernel)",
   "language": "python",
   "name": "python3"
  },
  "language_info": {
   "codemirror_mode": {
    "name": "ipython",
    "version": 3
   },
   "file_extension": ".py",
   "mimetype": "text/x-python",
   "name": "python",
   "nbconvert_exporter": "python",
   "pygments_lexer": "ipython3",
   "version": "3.9.13"
  }
 },
 "nbformat": 4,
 "nbformat_minor": 5
}
